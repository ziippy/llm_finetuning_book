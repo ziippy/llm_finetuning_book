{
 "cells": [
  {
   "cell_type": "code",
   "execution_count": 1,
   "metadata": {},
   "outputs": [
    {
     "name": "stdout",
     "output_type": "stream",
     "text": [
      "Collecting datasets\n",
      "  Downloading datasets-3.2.0-py3-none-any.whl.metadata (20 kB)\n",
      "Requirement already satisfied: filelock in /home/haiqv/conda/envs/py310/lib/python3.10/site-packages (from datasets) (3.16.1)\n",
      "Requirement already satisfied: numpy>=1.17 in /home/haiqv/conda/envs/py310/lib/python3.10/site-packages (from datasets) (1.26.4)\n",
      "Collecting pyarrow>=15.0.0 (from datasets)\n",
      "  Using cached pyarrow-18.1.0-cp310-cp310-manylinux_2_28_x86_64.whl.metadata (3.3 kB)\n",
      "Collecting dill<0.3.9,>=0.3.0 (from datasets)\n",
      "  Using cached dill-0.3.8-py3-none-any.whl.metadata (10 kB)\n",
      "Requirement already satisfied: pandas in /home/haiqv/conda/envs/py310/lib/python3.10/site-packages (from datasets) (2.2.3)\n",
      "Requirement already satisfied: requests>=2.32.2 in /home/haiqv/conda/envs/py310/lib/python3.10/site-packages (from datasets) (2.32.3)\n",
      "Requirement already satisfied: tqdm>=4.66.3 in /home/haiqv/conda/envs/py310/lib/python3.10/site-packages (from datasets) (4.67.1)\n",
      "Collecting xxhash (from datasets)\n",
      "  Using cached xxhash-3.5.0-cp310-cp310-manylinux_2_17_x86_64.manylinux2014_x86_64.whl.metadata (12 kB)\n",
      "Collecting multiprocess<0.70.17 (from datasets)\n",
      "  Using cached multiprocess-0.70.16-py310-none-any.whl.metadata (7.2 kB)\n",
      "Collecting fsspec<=2024.9.0,>=2023.1.0 (from fsspec[http]<=2024.9.0,>=2023.1.0->datasets)\n",
      "  Using cached fsspec-2024.9.0-py3-none-any.whl.metadata (11 kB)\n",
      "Requirement already satisfied: aiohttp in /home/haiqv/conda/envs/py310/lib/python3.10/site-packages (from datasets) (3.11.11)\n",
      "Requirement already satisfied: huggingface-hub>=0.23.0 in /home/haiqv/conda/envs/py310/lib/python3.10/site-packages (from datasets) (0.26.3)\n",
      "Requirement already satisfied: packaging in /home/haiqv/conda/envs/py310/lib/python3.10/site-packages (from datasets) (24.2)\n",
      "Requirement already satisfied: pyyaml>=5.1 in /home/haiqv/conda/envs/py310/lib/python3.10/site-packages (from datasets) (6.0.2)\n",
      "Requirement already satisfied: aiohappyeyeballs>=2.3.0 in /home/haiqv/conda/envs/py310/lib/python3.10/site-packages (from aiohttp->datasets) (2.4.4)\n",
      "Requirement already satisfied: aiosignal>=1.1.2 in /home/haiqv/conda/envs/py310/lib/python3.10/site-packages (from aiohttp->datasets) (1.3.2)\n",
      "Requirement already satisfied: async-timeout<6.0,>=4.0 in /home/haiqv/conda/envs/py310/lib/python3.10/site-packages (from aiohttp->datasets) (5.0.1)\n",
      "Requirement already satisfied: attrs>=17.3.0 in /home/haiqv/conda/envs/py310/lib/python3.10/site-packages (from aiohttp->datasets) (24.3.0)\n",
      "Requirement already satisfied: frozenlist>=1.1.1 in /home/haiqv/conda/envs/py310/lib/python3.10/site-packages (from aiohttp->datasets) (1.5.0)\n",
      "Requirement already satisfied: multidict<7.0,>=4.5 in /home/haiqv/conda/envs/py310/lib/python3.10/site-packages (from aiohttp->datasets) (6.1.0)\n",
      "Requirement already satisfied: propcache>=0.2.0 in /home/haiqv/conda/envs/py310/lib/python3.10/site-packages (from aiohttp->datasets) (0.2.1)\n",
      "Requirement already satisfied: yarl<2.0,>=1.17.0 in /home/haiqv/conda/envs/py310/lib/python3.10/site-packages (from aiohttp->datasets) (1.18.3)\n",
      "Requirement already satisfied: typing-extensions>=3.7.4.3 in /home/haiqv/conda/envs/py310/lib/python3.10/site-packages (from huggingface-hub>=0.23.0->datasets) (4.12.2)\n",
      "Requirement already satisfied: charset-normalizer<4,>=2 in /home/haiqv/conda/envs/py310/lib/python3.10/site-packages (from requests>=2.32.2->datasets) (3.4.0)\n",
      "Requirement already satisfied: idna<4,>=2.5 in /home/haiqv/conda/envs/py310/lib/python3.10/site-packages (from requests>=2.32.2->datasets) (3.10)\n",
      "Requirement already satisfied: urllib3<3,>=1.21.1 in /home/haiqv/conda/envs/py310/lib/python3.10/site-packages (from requests>=2.32.2->datasets) (2.2.3)\n",
      "Requirement already satisfied: certifi>=2017.4.17 in /home/haiqv/conda/envs/py310/lib/python3.10/site-packages (from requests>=2.32.2->datasets) (2024.8.30)\n",
      "Requirement already satisfied: python-dateutil>=2.8.2 in /home/haiqv/conda/envs/py310/lib/python3.10/site-packages (from pandas->datasets) (2.9.0.post0)\n",
      "Requirement already satisfied: pytz>=2020.1 in /home/haiqv/conda/envs/py310/lib/python3.10/site-packages (from pandas->datasets) (2024.2)\n",
      "Requirement already satisfied: tzdata>=2022.7 in /home/haiqv/conda/envs/py310/lib/python3.10/site-packages (from pandas->datasets) (2024.2)\n",
      "Requirement already satisfied: six>=1.5 in /home/haiqv/conda/envs/py310/lib/python3.10/site-packages (from python-dateutil>=2.8.2->pandas->datasets) (1.17.0)\n",
      "Downloading datasets-3.2.0-py3-none-any.whl (480 kB)\n",
      "Using cached dill-0.3.8-py3-none-any.whl (116 kB)\n",
      "Using cached fsspec-2024.9.0-py3-none-any.whl (179 kB)\n",
      "Using cached multiprocess-0.70.16-py310-none-any.whl (134 kB)\n",
      "Using cached pyarrow-18.1.0-cp310-cp310-manylinux_2_28_x86_64.whl (40.1 MB)\n",
      "Using cached xxhash-3.5.0-cp310-cp310-manylinux_2_17_x86_64.manylinux2014_x86_64.whl (194 kB)\n",
      "Installing collected packages: xxhash, pyarrow, fsspec, dill, multiprocess, datasets\n",
      "  Attempting uninstall: fsspec\n",
      "    Found existing installation: fsspec 2024.10.0\n",
      "    Uninstalling fsspec-2024.10.0:\n",
      "      Successfully uninstalled fsspec-2024.10.0\n",
      "Successfully installed datasets-3.2.0 dill-0.3.8 fsspec-2024.9.0 multiprocess-0.70.16 pyarrow-18.1.0 xxhash-3.5.0\n"
     ]
    }
   ],
   "source": [
    "!pip install datasets"
   ]
  },
  {
   "cell_type": "markdown",
   "metadata": {},
   "source": [
    "데이터 준비와 모델 구성"
   ]
  },
  {
   "cell_type": "code",
   "execution_count": 2,
   "metadata": {},
   "outputs": [
    {
     "name": "stderr",
     "output_type": "stream",
     "text": [
      "/home/haiqv/conda/envs/py310/lib/python3.10/site-packages/tqdm/auto.py:21: TqdmWarning: IProgress not found. Please update jupyter and ipywidgets. See https://ipywidgets.readthedocs.io/en/stable/user_install.html\n",
      "  from .autonotebook import tqdm as notebook_tqdm\n",
      "Generating train split: 100%|██████████| 22194/22194 [00:01<00:00, 21238.20 examples/s]\n",
      "Generating validation split: 100%|██████████| 2466/2466 [00:00<00:00, 19438.66 examples/s]\n",
      "Generating test split: 100%|██████████| 2740/2740 [00:00<00:00, 20934.62 examples/s]\n"
     ]
    }
   ],
   "source": [
    "from datasets import load_dataset\n",
    "\n",
    "dataset = load_dataset(\"daekeun-ml/naver-news-summarization-ko\")"
   ]
  },
  {
   "cell_type": "code",
   "execution_count": 5,
   "metadata": {},
   "outputs": [
    {
     "data": {
      "text/plain": [
       "DatasetDict({\n",
       "    train: Dataset({\n",
       "        features: ['date', 'category', 'press', 'title', 'document', 'link', 'summary'],\n",
       "        num_rows: 22194\n",
       "    })\n",
       "    validation: Dataset({\n",
       "        features: ['date', 'category', 'press', 'title', 'document', 'link', 'summary'],\n",
       "        num_rows: 2466\n",
       "    })\n",
       "    test: Dataset({\n",
       "        features: ['date', 'category', 'press', 'title', 'document', 'link', 'summary'],\n",
       "        num_rows: 2740\n",
       "    })\n",
       "})"
      ]
     },
     "execution_count": 5,
     "metadata": {},
     "output_type": "execute_result"
    }
   ],
   "source": [
    "data = dataset\n",
    "data"
   ]
  },
  {
   "cell_type": "code",
   "execution_count": 6,
   "metadata": {},
   "outputs": [
    {
     "data": {
      "text/plain": [
       "'앵커 정부가 올해 하반기 우리 경제의 버팀목인 수출 확대를 위해 총력을 기울이기로 했습니다. 특히 수출 중소기업의 물류난 해소를 위해 무역금융 규모를 40조 원 이상 확대하고 물류비 지원과 임시선박 투입 등을 추진하기로 했습니다. 류환홍 기자가 보도합니다. 기자 수출은 최고의 실적을 보였지만 수입액이 급증하면서 올해 상반기 우리나라 무역수지는 역대 최악인 103억 달러 적자를 기록했습니다. 정부가 수출확대에 총력을 기울이기로 한 것은 원자재 가격 상승 등 대외 리스크가 가중되는 상황에서 수출 증가세 지속이야말로 한국경제의 회복을 위한 열쇠라고 본 것입니다. 추경호 경제부총리 겸 기획재정부 장관 정부는 우리 경제의 성장엔진인 수출이 높은 증가세를 지속할 수 있도록 총력을 다하겠습니다. 우선 물류 부담 증가 원자재 가격 상승 등 가중되고 있는 대외 리스크에 대해 적극 대응하겠습니다. 특히 중소기업과 중견기업 수출 지원을 위해 무역금융 규모를 연초 목표보다 40조 원 늘린 301조 원까지 확대하고 물류비 부담을 줄이기 위한 대책도 마련했습니다. 이창양 산업통상자원부 장관 국제 해상운임이 안정될 때까지 월 4척 이상의 임시선박을 지속 투입하는 한편 중소기업 전용 선복 적재 용량 도 현재보다 주당 50TEU 늘려 공급하겠습니다. 하반기에 우리 기업들의 수출 기회를 늘리기 위해 2 500여 개 수출기업을 대상으로 해외 전시회 참가를 지원하는 등 마케팅 지원도 벌이기로 했습니다. 정부는 또 이달 중으로 반도체를 비롯한 첨단 산업 육성 전략을 마련해 수출 증가세를 뒷받침하고 에너지 소비를 줄이기 위한 효율화 방안을 마련해 무역수지 개선에 나서기로 했습니다. YTN 류환홍입니다.'"
      ]
     },
     "execution_count": 6,
     "metadata": {},
     "output_type": "execute_result"
    }
   ],
   "source": [
    "data[\"train\"][\"document\"][0]"
   ]
  },
  {
   "cell_type": "code",
   "execution_count": 7,
   "metadata": {},
   "outputs": [
    {
     "name": "stdout",
     "output_type": "stream",
     "text": [
      "[' ', '.', '0', '1', '2', '3', '4', '5', 'E', 'N', 'T', 'U', 'Y', '가', '개', '것', '겠', '격', '견', '겸', '경', '고', '공', '과', '관', '국', '규', '극', '금', '급', '기', '까', '나', '난', '너', '높', '는', '늘', '니', '다', '단', '달', '담', '당', '대', '도', '되', '될', '뒷', '들', '등', '때', '또', '라', '략', '량', '러', '려', '력', '련', '로', '록', '롯', '류', '를', '리', '린', '마', '만', '말', '면', '모', '목', '무', '물', '박', '반', '받', '방', '버', '벌', '보', '복', '본', '부', '비', '산', '상', '서', '선', '성', '세', '소', '속', '쇠', '수', '스', '습', '승', '시', '실', '악', '안', '액', '앵', '야', '양', '억', '업', '에', '엔', '여', '역', '연', '열', '였', '올', '외', '용', '우', '운', '울', '원', '월', '위', '육', '율', '융', '으', '은', '을', '응', '의', '이', '인', '임', '입', '있', '자', '장', '재', '적', '전', '정', '제', '조', '주', '줄', '중', '증', '지', '진', '참', '창', '책', '척', '첨', '체', '초', '총', '최', '추', '출', '침', '커', '케', '크', '통', '투', '특', '팀', '팅', '편', '표', '하', '한', '할', '합', '해', '했', '현', '호', '홍', '화', '확', '환', '황', '회', '획', '효', '히']\n"
     ]
    }
   ],
   "source": [
    "print(sorted(list(set(data[\"train\"][\"document\"][0]))))"
   ]
  },
  {
   "cell_type": "markdown",
   "metadata": {},
   "source": [
    "GPT 모델을 만들려면 이러한 텍스트 데이터들이 필요함.\n",
    "\n",
    "학습을 진행할 때는 document 컬럼만 이용해 진행하겠음. \n",
    "\n",
    "학습한 데이터 형태로 만들어보자."
   ]
  },
  {
   "cell_type": "code",
   "execution_count": 8,
   "metadata": {},
   "outputs": [
    {
     "name": "stdout",
     "output_type": "stream",
     "text": [
      "총 글자 수 : 2701\n"
     ]
    }
   ],
   "source": [
    "# 이것은 텍스트에 나타나는 모든 문자 집합을 가져온 것입니다.\n",
    "# 그것들은 고유한 것들만 남겨서 sorted로 정렬을 하면 아래와 같은 결과를 볼 수 있습니다.\n",
    "ko_text = \"\".join(data[\"train\"][\"document\"])\n",
    "ko_chars = sorted(list(set((ko_text))))\n",
    "ko_vocab_size = len(ko_chars)\n",
    "print(\"총 글자 수 :\", ko_vocab_size)"
   ]
  },
  {
   "cell_type": "code",
   "execution_count": 10,
   "metadata": {},
   "outputs": [
    {
     "name": "stdout",
     "output_type": "stream",
     "text": [
      "['왓', '왔', '왕', '왜', '왠', '외', '왹', '왼', '요', '욕', '욘', '욜', '욤', '욥', '용', '우', '욱', '운', '욷', '울', '움', '웁', '웃', '웅', '워', '웍', '원', '월', '웜', '웠', '웡', '웨', '웬', '웰', '웸', '웹', '웻', '위', '윅', '윈', '윌', '윔', '윕', '윗', '윙', '유', '육', '윤', '율', '윱', '윳', '융', '으', '윽', '은', '을', '음', '읍', '읏', '응', '의', '읠', '이', '익', '인', '일', '읽', '잃', '임', '입', '잇', '있', '잉', '잊', '잎', '자', '작', '잔', '잖', '잘', '잠', '잡', '잣', '잤', '장', '잦', '재', '잭', '잰', '잼', '잽', '잿', '쟁', '쟈', '쟝', '쟤', '저', '적', '전', '절']\n"
     ]
    }
   ],
   "source": [
    "print(ko_chars[2000:2100])"
   ]
  },
  {
   "cell_type": "code",
   "execution_count": 11,
   "metadata": {},
   "outputs": [
    {
     "name": "stdout",
     "output_type": "stream",
     "text": [
      "[1909, 1169, 2546, 1770, 2008, 0, 2551, 1061, 0, 2064, 977, 2157, 1209, 2055, 0, 977, 1658, 2546, 949, 0, 1283, 1942, 0, 1593, 908, 2024, 2008, 2]\n",
      "안녕하세요 함께 인공지능을 공부하게 되어 반가워요.\n"
     ]
    }
   ],
   "source": [
    "character_to_ids = {char:i for i, char in enumerate(ko_chars)}\n",
    "ids_to_character = {i:char for i, char in enumerate(ko_chars)}\n",
    "token_encode = lambda s:[character_to_ids[c] for c in s]\n",
    "token_decode = lambda l: \"\".join([ids_to_character[i] for i in l])\n",
    "\n",
    "print(token_encode(\"안녕하세요 함께 인공지능을 공부하게 되어 반가워요.\"))\n",
    "print(token_decode(token_encode(\"안녕하세요 함께 인공지능을 공부하게 되어 반가워요.\")))"
   ]
  },
  {
   "cell_type": "markdown",
   "metadata": {},
   "source": [
    "이렇게 하여 인코딩/디코딩 동작 확인함"
   ]
  },
  {
   "cell_type": "markdown",
   "metadata": {},
   "source": [
    "이제 데이터 타입을 모두 변경"
   ]
  },
  {
   "cell_type": "code",
   "execution_count": 12,
   "metadata": {},
   "outputs": [
    {
     "name": "stdout",
     "output_type": "stream",
     "text": [
      "torch.Size([22162967]) torch.int64\n",
      "tensor([1928, 2315,    0, 2105, 1658,  908,    0, 1987, 2555,    0, 2546, 1593,\n",
      "        1028,    0, 2015, 1485,    0,  965, 2107, 2060,    0, 1617, 2465, 1542,\n",
      "        2064,    0, 1808, 2273,    0, 2603, 1236, 1477,    0, 2037, 2555,    0,\n",
      "        2263, 1430, 2055,    0, 1028, 2019, 2062, 1028, 1441,    0, 2562, 1841,\n",
      "        1213, 1221,    2,    0, 2451, 2650,    0, 1808, 2273,    0, 2142, 1787,\n",
      "        1028, 1950, 2060,    0, 1558, 1468, 1119,    0, 2555, 1787, 1477,    0,\n",
      "        2037, 2555,    0, 1553, 1967, 1024, 2051,    0, 1015, 1541, 1477,    0,\n",
      "           7,    3, 2117,    0, 2026,    0, 2062, 1740,    0, 2603, 1236, 2546,\n",
      "         968,    0, 1558, 1468])\n"
     ]
    }
   ],
   "source": [
    "import torch\n",
    "\n",
    "tokenized_data = torch.tensor(token_encode(ko_text), dtype=torch.long)\n",
    "print(tokenized_data.shape, tokenized_data.dtype)\n",
    "print(tokenized_data[:100])"
   ]
  },
  {
   "cell_type": "markdown",
   "metadata": {},
   "source": [
    "train_data 와 val_data 로 나누자"
   ]
  },
  {
   "cell_type": "code",
   "execution_count": 13,
   "metadata": {},
   "outputs": [],
   "source": [
    "n = int(0.9 * len(tokenized_data))\n",
    "train_dataset = tokenized_data[:n]\n",
    "test_dataset = tokenized_data[n:]"
   ]
  },
  {
   "cell_type": "code",
   "execution_count": 14,
   "metadata": {},
   "outputs": [
    {
     "data": {
      "text/plain": [
       "tensor([1928, 2315,    0, 2105, 1658,  908,    0, 1987])"
      ]
     },
     "execution_count": 14,
     "metadata": {},
     "output_type": "execute_result"
    }
   ],
   "source": [
    "block_size = 8 # 한 번에 모델이 처리할 수 있는 글자의 수\n",
    "train_dataset[:block_size]"
   ]
  },
  {
   "cell_type": "code",
   "execution_count": 15,
   "metadata": {},
   "outputs": [
    {
     "name": "stdout",
     "output_type": "stream",
     "text": [
      "입력 텐셔 : tensor([1928])\n",
      "타켓 글자 : 2315\n",
      "입력 텐셔 : tensor([1928, 2315])\n",
      "타켓 글자 : 0\n",
      "입력 텐셔 : tensor([1928, 2315,    0])\n",
      "타켓 글자 : 2105\n",
      "입력 텐셔 : tensor([1928, 2315,    0, 2105])\n",
      "타켓 글자 : 1658\n",
      "입력 텐셔 : tensor([1928, 2315,    0, 2105, 1658])\n",
      "타켓 글자 : 908\n",
      "입력 텐셔 : tensor([1928, 2315,    0, 2105, 1658,  908])\n",
      "타켓 글자 : 0\n",
      "입력 텐셔 : tensor([1928, 2315,    0, 2105, 1658,  908,    0])\n",
      "타켓 글자 : 1987\n",
      "입력 텐셔 : tensor([1928, 2315,    0, 2105, 1658,  908,    0, 1987])\n",
      "타켓 글자 : 2555\n"
     ]
    }
   ],
   "source": [
    "x = train_dataset[:block_size]\n",
    "y = train_dataset[1:block_size+1]\n",
    "\n",
    "for time in range(block_size):\n",
    "    context = x[:time+1]\n",
    "    target = y[time]\n",
    "\n",
    "    print(f\"입력 텐셔 : {context}\")\n",
    "    print(f\"타켓 글자 : {target}\")"
   ]
  },
  {
   "cell_type": "markdown",
   "metadata": {},
   "source": [
    "배치 적용"
   ]
  },
  {
   "cell_type": "code",
   "execution_count": 16,
   "metadata": {},
   "outputs": [
    {
     "name": "stdout",
     "output_type": "stream",
     "text": [
      "inputs :  torch.Size([4, 8])\n",
      "\n",
      "example_x의 실제 값\n",
      "tensor([[1764, 2555,    0, 1236, 2248,    0, 2017, 1976],\n",
      "        [   0, 1966, 2157,    0, 1951, 2062,    0, 2548],\n",
      "        [   0, 1304, 1485, 1586,    0, 1907, 2450,    0],\n",
      "        [   3,    2,    6,    5,    1,    0,    5,    3]])\n",
      "-----------------------\n",
      "targets :  torch.Size([4, 8])\n",
      "\n",
      "example_y의 실제 값\n",
      "tensor([[2555,    0, 1236, 2248,    0, 2017, 1976, 2546],\n",
      "        [1966, 2157,    0, 1951, 2062,    0, 2548, 2289],\n",
      "        [1304, 1485, 1586,    0, 1907, 2450,    0, 2480],\n",
      "        [   2,    6,    5,    1,    0,    5,    3,    5]])\n",
      "-----------------------\n",
      "input : tensor([1764]), target : 2555\n",
      "input : tensor([1764, 2555]), target : 0\n",
      "input : tensor([1764, 2555,    0]), target : 1236\n",
      "input : tensor([1764, 2555,    0, 1236]), target : 2248\n",
      "input : tensor([1764, 2555,    0, 1236, 2248]), target : 0\n",
      "input : tensor([1764, 2555,    0, 1236, 2248,    0]), target : 2017\n",
      "input : tensor([1764, 2555,    0, 1236, 2248,    0, 2017]), target : 1976\n",
      "input : tensor([1764, 2555,    0, 1236, 2248,    0, 2017, 1976]), target : 2546\n",
      "-----------------------\n",
      "-----------------------\n",
      "input : tensor([0]), target : 1966\n",
      "input : tensor([   0, 1966]), target : 2157\n",
      "input : tensor([   0, 1966, 2157]), target : 0\n",
      "input : tensor([   0, 1966, 2157,    0]), target : 1951\n",
      "input : tensor([   0, 1966, 2157,    0, 1951]), target : 2062\n",
      "input : tensor([   0, 1966, 2157,    0, 1951, 2062]), target : 0\n",
      "input : tensor([   0, 1966, 2157,    0, 1951, 2062,    0]), target : 2548\n",
      "input : tensor([   0, 1966, 2157,    0, 1951, 2062,    0, 2548]), target : 2289\n",
      "-----------------------\n",
      "-----------------------\n",
      "input : tensor([0]), target : 1304\n",
      "input : tensor([   0, 1304]), target : 1485\n",
      "input : tensor([   0, 1304, 1485]), target : 1586\n",
      "input : tensor([   0, 1304, 1485, 1586]), target : 0\n",
      "input : tensor([   0, 1304, 1485, 1586,    0]), target : 1907\n",
      "input : tensor([   0, 1304, 1485, 1586,    0, 1907]), target : 2450\n",
      "input : tensor([   0, 1304, 1485, 1586,    0, 1907, 2450]), target : 0\n",
      "input : tensor([   0, 1304, 1485, 1586,    0, 1907, 2450,    0]), target : 2480\n",
      "-----------------------\n",
      "-----------------------\n",
      "input : tensor([3]), target : 2\n",
      "input : tensor([3, 2]), target : 6\n",
      "input : tensor([3, 2, 6]), target : 5\n",
      "input : tensor([3, 2, 6, 5]), target : 1\n",
      "input : tensor([3, 2, 6, 5, 1]), target : 0\n",
      "input : tensor([3, 2, 6, 5, 1, 0]), target : 5\n",
      "input : tensor([3, 2, 6, 5, 1, 0, 5]), target : 3\n",
      "input : tensor([3, 2, 6, 5, 1, 0, 5, 3]), target : 5\n",
      "-----------------------\n",
      "-----------------------\n"
     ]
    }
   ],
   "source": [
    "torch.manual_seed(1234)\n",
    "\n",
    "batch_size = 4\n",
    "block_size = 8\n",
    "\n",
    "\n",
    "def batch_function(mode):\n",
    "    dataset = train_dataset if mode == \"train\" else test_dataset\n",
    "    idx = torch.randint(len(dataset) - block_size, (batch_size,))\n",
    "    x = torch.stack([dataset[index:index+block_size] for index in idx])\n",
    "    y = torch.stack([dataset[index+1:index+block_size+1] for index in idx])\n",
    "    return x, y\n",
    "\n",
    "example_x, example_y = batch_function(\"train\")\n",
    "print(\"inputs : \", example_x.shape)\n",
    "print(\"\")\n",
    "print(\"example_x의 실제 값\")\n",
    "print(example_x)\n",
    "print(\"-----------------------\")\n",
    "print(\"targets : \", example_y.shape)\n",
    "print(\"\")\n",
    "print(\"example_y의 실제 값\")\n",
    "print(example_y)\n",
    "print(\"-----------------------\")\n",
    "\n",
    "for size in range(batch_size):\n",
    "    for t in range(block_size):\n",
    "        context = example_x[size, :t+1]\n",
    "        target = example_y[size, t]\n",
    "        print(f\"input : {context}, target : {target}\")\n",
    "    print(\"-----------------------\")\n",
    "    print(\"-----------------------\")"
   ]
  },
  {
   "cell_type": "code",
   "execution_count": 17,
   "metadata": {},
   "outputs": [
    {
     "data": {
      "text/plain": [
       "(2701,\n",
       " torch.Size([4, 8]),\n",
       " tensor([[2555,    0, 1236, 2248,    0, 2017, 1976, 2546],\n",
       "         [1966, 2157,    0, 1951, 2062,    0, 2548, 2289],\n",
       "         [1304, 1485, 1586,    0, 1907, 2450,    0, 2480],\n",
       "         [   2,    6,    5,    1,    0,    5,    3,    5]]))"
      ]
     },
     "execution_count": 17,
     "metadata": {},
     "output_type": "execute_result"
    }
   ],
   "source": [
    "ko_vocab_size, example_x.shape, example_y"
   ]
  },
  {
   "cell_type": "code",
   "execution_count": null,
   "metadata": {},
   "outputs": [],
   "source": []
  }
 ],
 "metadata": {
  "language_info": {
   "name": "python"
  }
 },
 "nbformat": 4,
 "nbformat_minor": 2
}
