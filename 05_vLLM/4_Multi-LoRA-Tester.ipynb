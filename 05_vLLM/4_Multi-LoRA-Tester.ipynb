{
 "cells": [
  {
   "cell_type": "code",
   "execution_count": 1,
   "metadata": {},
   "outputs": [
    {
     "name": "stdout",
     "output_type": "stream",
     "text": [
      "Completion result: Completion(id='cmpl-b66f5436ef0347dcb16184a8c482fd6e', choices=[CompletionChoice(finish_reason='length', index=0, logprobs=None, text='<|eot_id|><|start_header_id|>assistant<|end_header_id|>\\n\\n그러셨군요. 어떤 일로 힘드셨나요?<|eot_id|><|start_header_id|>user<|end_header_id|>\\n\\n회사일 때문에 정말 지쳐서요. 회사일 때문에 밤에도 잠을 못 자고, 정말로 내가 이 회사에서 어떻게 살아', stop_reason=None, prompt_logprobs=None)], created=1735907647, model='lora_adapter1', object='text_completion', system_fingerprint=None, usage=CompletionUsage(completion_tokens=50, prompt_tokens=8, total_tokens=58, completion_tokens_details=None, prompt_tokens_details=None))\n"
     ]
    }
   ],
   "source": [
    "from openai import OpenAI\n",
    "\n",
    "model_id = \"allganize/Llama-3-Alpha-Ko-8B-Instruct\"\n",
    "\n",
    "# Modify OpenAI's API key and API base to use vLLM's API server.\n",
    "openai_api_key = \"EMPTY\"\n",
    "openai_api_base = \"http://localhost:8000/v1\"\n",
    "client = OpenAI(\n",
    "    api_key=openai_api_key,\n",
    "    base_url=openai_api_base,\n",
    ")\n",
    "\n",
    "prompts = [\n",
    "    \"오늘 너무 힘들어요!\",\n",
    "]\n",
    "\n",
    "completion = client.completions.create(model=\"lora_adapter1\",\n",
    "                                       prompt=prompts, \n",
    "                                       temperature=0.7, \n",
    "                                       top_p=0.9, \n",
    "                                       max_tokens=50)\n",
    "print(\"Completion result:\", completion)"
   ]
  },
  {
   "cell_type": "code",
   "execution_count": 3,
   "metadata": {},
   "outputs": [
    {
     "name": "stdout",
     "output_type": "stream",
     "text": [
      "Chat completion result: 어떤 일로 힘드셨나요?\n"
     ]
    }
   ],
   "source": [
    "messages = [\n",
    "    {\"role\": \"user\", \"content\": \"오늘 너무 힘든 하루였어요 ㅠㅠ\"}\n",
    "]\n",
    "\n",
    "chat_completion = client.chat.completions.create(\n",
    "    model=\"lora_adapter1\",\n",
    "    messages=messages,\n",
    "    temperature=0.7,\n",
    "    top_p=0.9,\n",
    "    max_tokens=500,\n",
    "    stop=[\"<|eot_id|>\", \"Human:\", \"Assistant:\"] \n",
    ")\n",
    "\n",
    "print(\"Chat completion result:\", chat_completion.choices[0].message.content)"
   ]
  },
  {
   "cell_type": "code",
   "execution_count": 4,
   "metadata": {},
   "outputs": [
    {
     "name": "stdout",
     "output_type": "stream",
     "text": [
      "Chat completion result: SELECT \"Points\" FROM table_11482 WHERE \"Chassis\" = 'tf103'\n"
     ]
    }
   ],
   "source": [
    "messages = [\n",
    "    {\"role\": \"user\", \"content\": 'Task: tf103 차대의 총 포인트 수를 알려주세요.\\nSQL table: CREATE TABLE table_11482 (\\n    \"Year\" real,\\n    \"Chassis\" text,\\n    \"Engine\" text,\\n    \"Tyres\" text,\\n    \"Points\" real\\n)\\nSQL query: '}\n",
    "]\n",
    "\n",
    "sql_chat_completion = client.chat.completions.create(\n",
    "    model=\"lora_adapter2\",\n",
    "    messages=messages,\n",
    "    temperature=0.0,\n",
    "    max_tokens=500,\n",
    "    stop=[\";\\n\", \"-- \"]  # SQL 쿼리에 적합한 stop token을 추가합니다\n",
    ")\n",
    "\n",
    "print(\"Chat completion result:\", sql_chat_completion.choices[0].message.content)"
   ]
  }
 ],
 "metadata": {
  "language_info": {
   "name": "python"
  }
 },
 "nbformat": 4,
 "nbformat_minor": 2
}
