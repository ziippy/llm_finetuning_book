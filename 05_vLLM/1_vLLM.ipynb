{
 "cells": [
  {
   "cell_type": "code",
   "execution_count": 1,
   "metadata": {},
   "outputs": [
    {
     "name": "stdout",
     "output_type": "stream",
     "text": [
      "Requirement already satisfied: openai in /home/haiqv/conda/envs/py310/lib/python3.10/site-packages (1.58.1)\n",
      "Collecting vllm\n",
      "  Downloading vllm-0.6.6.post1-cp38-abi3-manylinux1_x86_64.whl.metadata (11 kB)\n",
      "Requirement already satisfied: anyio<5,>=3.5.0 in /home/haiqv/conda/envs/py310/lib/python3.10/site-packages (from openai) (4.7.0)\n",
      "Requirement already satisfied: distro<2,>=1.7.0 in /home/haiqv/conda/envs/py310/lib/python3.10/site-packages (from openai) (1.9.0)\n",
      "Requirement already satisfied: httpx<1,>=0.23.0 in /home/haiqv/conda/envs/py310/lib/python3.10/site-packages (from openai) (0.28.1)\n",
      "Requirement already satisfied: jiter<1,>=0.4.0 in /home/haiqv/conda/envs/py310/lib/python3.10/site-packages (from openai) (0.8.2)\n",
      "Requirement already satisfied: pydantic<3,>=1.9.0 in /home/haiqv/conda/envs/py310/lib/python3.10/site-packages (from openai) (2.10.4)\n",
      "Requirement already satisfied: sniffio in /home/haiqv/conda/envs/py310/lib/python3.10/site-packages (from openai) (1.3.1)\n",
      "Requirement already satisfied: tqdm>4 in /home/haiqv/conda/envs/py310/lib/python3.10/site-packages (from openai) (4.67.1)\n",
      "Requirement already satisfied: typing-extensions<5,>=4.11 in /home/haiqv/conda/envs/py310/lib/python3.10/site-packages (from openai) (4.12.2)\n",
      "Requirement already satisfied: psutil in /home/haiqv/conda/envs/py310/lib/python3.10/site-packages (from vllm) (6.1.0)\n",
      "Requirement already satisfied: sentencepiece in /home/haiqv/conda/envs/py310/lib/python3.10/site-packages (from vllm) (0.1.97)\n",
      "Requirement already satisfied: numpy<2.0.0 in /home/haiqv/conda/envs/py310/lib/python3.10/site-packages (from vllm) (1.26.4)\n",
      "Requirement already satisfied: requests>=2.26.0 in /home/haiqv/conda/envs/py310/lib/python3.10/site-packages (from vllm) (2.32.3)\n",
      "Collecting blake3 (from vllm)\n",
      "  Downloading blake3-1.0.0-cp310-cp310-manylinux_2_17_x86_64.manylinux2014_x86_64.whl.metadata (4.1 kB)\n",
      "Collecting py-cpuinfo (from vllm)\n",
      "  Downloading py_cpuinfo-9.0.0-py3-none-any.whl.metadata (794 bytes)\n",
      "Requirement already satisfied: transformers>=4.45.2 in /home/haiqv/conda/envs/py310/lib/python3.10/site-packages (from vllm) (4.46.3)\n",
      "Requirement already satisfied: tokenizers>=0.19.1 in /home/haiqv/conda/envs/py310/lib/python3.10/site-packages (from vllm) (0.20.3)\n",
      "Requirement already satisfied: protobuf in /home/haiqv/conda/envs/py310/lib/python3.10/site-packages (from vllm) (3.20.0)\n",
      "Requirement already satisfied: fastapi!=0.113.*,!=0.114.0,>=0.107.0 in /home/haiqv/conda/envs/py310/lib/python3.10/site-packages (from vllm) (0.115.6)\n",
      "Requirement already satisfied: aiohttp in /home/haiqv/conda/envs/py310/lib/python3.10/site-packages (from vllm) (3.11.11)\n",
      "Requirement already satisfied: uvicorn[standard] in /home/haiqv/conda/envs/py310/lib/python3.10/site-packages (from vllm) (0.34.0)\n",
      "Collecting prometheus_client>=0.18.0 (from vllm)\n",
      "  Downloading prometheus_client-0.21.1-py3-none-any.whl.metadata (1.8 kB)\n",
      "Requirement already satisfied: pillow in /home/haiqv/conda/envs/py310/lib/python3.10/site-packages (from vllm) (10.4.0)\n",
      "Collecting prometheus-fastapi-instrumentator>=7.0.0 (from vllm)\n",
      "  Downloading prometheus_fastapi_instrumentator-7.0.0-py3-none-any.whl.metadata (13 kB)\n",
      "Requirement already satisfied: tiktoken>=0.6.0 in /home/haiqv/conda/envs/py310/lib/python3.10/site-packages (from vllm) (0.8.0)\n",
      "Collecting lm-format-enforcer<0.11,>=0.10.9 (from vllm)\n",
      "  Downloading lm_format_enforcer-0.10.9-py3-none-any.whl.metadata (17 kB)\n",
      "Collecting outlines==0.1.11 (from vllm)\n",
      "  Downloading outlines-0.1.11-py3-none-any.whl.metadata (17 kB)\n",
      "Collecting lark==1.2.2 (from vllm)\n",
      "  Using cached lark-1.2.2-py3-none-any.whl.metadata (1.8 kB)\n",
      "Collecting xgrammar>=0.1.6 (from vllm)\n",
      "  Downloading xgrammar-0.1.8-cp310-cp310-manylinux_2_27_x86_64.manylinux_2_28_x86_64.whl.metadata (2.0 kB)\n",
      "Requirement already satisfied: filelock>=3.16.1 in /home/haiqv/conda/envs/py310/lib/python3.10/site-packages (from vllm) (3.16.1)\n",
      "Collecting partial-json-parser (from vllm)\n",
      "  Downloading partial_json_parser-0.2.1.1.post4-py3-none-any.whl.metadata (6.2 kB)\n",
      "Requirement already satisfied: pyzmq in /home/haiqv/conda/envs/py310/lib/python3.10/site-packages (from vllm) (26.2.0)\n",
      "Collecting msgspec (from vllm)\n",
      "  Downloading msgspec-0.19.0-cp310-cp310-manylinux_2_17_x86_64.manylinux2014_x86_64.whl.metadata (6.9 kB)\n",
      "Collecting gguf==0.10.0 (from vllm)\n",
      "  Downloading gguf-0.10.0-py3-none-any.whl.metadata (3.5 kB)\n",
      "Requirement already satisfied: importlib_metadata in /home/haiqv/conda/envs/py310/lib/python3.10/site-packages (from vllm) (8.5.0)\n",
      "Collecting mistral_common>=1.5.0 (from mistral_common[opencv]>=1.5.0->vllm)\n",
      "  Downloading mistral_common-1.5.1-py3-none-any.whl.metadata (4.6 kB)\n",
      "Requirement already satisfied: pyyaml in /home/haiqv/conda/envs/py310/lib/python3.10/site-packages (from vllm) (6.0.2)\n",
      "Requirement already satisfied: einops in /home/haiqv/conda/envs/py310/lib/python3.10/site-packages (from vllm) (0.8.0)\n",
      "Collecting compressed-tensors==0.8.1 (from vllm)\n",
      "  Downloading compressed_tensors-0.8.1-py3-none-any.whl.metadata (6.8 kB)\n",
      "Collecting depyf==0.18.0 (from vllm)\n",
      "  Downloading depyf-0.18.0-py3-none-any.whl.metadata (7.1 kB)\n",
      "Collecting cloudpickle (from vllm)\n",
      "  Using cached cloudpickle-3.1.0-py3-none-any.whl.metadata (7.0 kB)\n",
      "Collecting ray>=2.9 (from ray[default]>=2.9->vllm)\n",
      "  Downloading ray-2.40.0-cp310-cp310-manylinux2014_x86_64.whl.metadata (17 kB)\n",
      "Collecting nvidia-ml-py>=12.560.30 (from vllm)\n",
      "  Using cached nvidia_ml_py-12.560.30-py3-none-any.whl.metadata (8.6 kB)\n",
      "Requirement already satisfied: torch==2.5.1 in /home/haiqv/conda/envs/py310/lib/python3.10/site-packages (from vllm) (2.5.1)\n",
      "Requirement already satisfied: torchvision==0.20.1 in /home/haiqv/conda/envs/py310/lib/python3.10/site-packages (from vllm) (0.20.1)\n",
      "Collecting xformers==0.0.28.post3 (from vllm)\n",
      "  Downloading xformers-0.0.28.post3-cp310-cp310-manylinux_2_28_x86_64.whl.metadata (1.0 kB)\n",
      "Collecting astor (from depyf==0.18.0->vllm)\n",
      "  Downloading astor-0.8.1-py2.py3-none-any.whl.metadata (4.2 kB)\n",
      "Requirement already satisfied: dill in /home/haiqv/conda/envs/py310/lib/python3.10/site-packages (from depyf==0.18.0->vllm) (0.3.8)\n",
      "Collecting interegular (from outlines==0.1.11->vllm)\n",
      "  Downloading interegular-0.3.3-py37-none-any.whl.metadata (3.0 kB)\n",
      "Requirement already satisfied: jinja2 in /home/haiqv/conda/envs/py310/lib/python3.10/site-packages (from outlines==0.1.11->vllm) (3.1.4)\n",
      "Requirement already satisfied: nest_asyncio in /home/haiqv/conda/envs/py310/lib/python3.10/site-packages (from outlines==0.1.11->vllm) (1.6.0)\n",
      "Collecting diskcache (from outlines==0.1.11->vllm)\n",
      "  Downloading diskcache-5.6.3-py3-none-any.whl.metadata (20 kB)\n",
      "Requirement already satisfied: referencing in /home/haiqv/conda/envs/py310/lib/python3.10/site-packages (from outlines==0.1.11->vllm) (0.35.1)\n",
      "Requirement already satisfied: jsonschema in /home/haiqv/conda/envs/py310/lib/python3.10/site-packages (from outlines==0.1.11->vllm) (4.23.0)\n",
      "Collecting pycountry (from outlines==0.1.11->vllm)\n",
      "  Downloading pycountry-24.6.1-py3-none-any.whl.metadata (12 kB)\n",
      "Collecting airportsdata (from outlines==0.1.11->vllm)\n",
      "  Downloading airportsdata-20241001-py3-none-any.whl.metadata (8.9 kB)\n",
      "Collecting outlines_core==0.1.26 (from outlines==0.1.11->vllm)\n",
      "  Downloading outlines_core-0.1.26-cp310-cp310-manylinux_2_17_x86_64.manylinux2014_x86_64.whl.metadata (3.8 kB)\n",
      "Requirement already satisfied: networkx in /home/haiqv/conda/envs/py310/lib/python3.10/site-packages (from torch==2.5.1->vllm) (3.4.2)\n",
      "Requirement already satisfied: fsspec in /home/haiqv/conda/envs/py310/lib/python3.10/site-packages (from torch==2.5.1->vllm) (2024.9.0)\n",
      "Requirement already satisfied: sympy==1.13.1 in /home/haiqv/conda/envs/py310/lib/python3.10/site-packages (from torch==2.5.1->vllm) (1.13.1)\n",
      "Requirement already satisfied: mpmath<1.4,>=1.1.0 in /home/haiqv/conda/envs/py310/lib/python3.10/site-packages (from sympy==1.13.1->torch==2.5.1->vllm) (1.3.0)\n",
      "Requirement already satisfied: exceptiongroup>=1.0.2 in /home/haiqv/conda/envs/py310/lib/python3.10/site-packages (from anyio<5,>=3.5.0->openai) (1.2.2)\n",
      "Requirement already satisfied: idna>=2.8 in /home/haiqv/conda/envs/py310/lib/python3.10/site-packages (from anyio<5,>=3.5.0->openai) (3.10)\n",
      "Requirement already satisfied: starlette<0.42.0,>=0.40.0 in /home/haiqv/conda/envs/py310/lib/python3.10/site-packages (from fastapi!=0.113.*,!=0.114.0,>=0.107.0->vllm) (0.41.3)\n",
      "Requirement already satisfied: certifi in /home/haiqv/conda/envs/py310/lib/python3.10/site-packages (from httpx<1,>=0.23.0->openai) (2024.8.30)\n",
      "Requirement already satisfied: httpcore==1.* in /home/haiqv/conda/envs/py310/lib/python3.10/site-packages (from httpx<1,>=0.23.0->openai) (1.0.7)\n",
      "Requirement already satisfied: h11<0.15,>=0.13 in /home/haiqv/conda/envs/py310/lib/python3.10/site-packages (from httpcore==1.*->httpx<1,>=0.23.0->openai) (0.14.0)\n",
      "Requirement already satisfied: packaging in /home/haiqv/conda/envs/py310/lib/python3.10/site-packages (from lm-format-enforcer<0.11,>=0.10.9->vllm) (24.2)\n",
      "Collecting sentencepiece (from vllm)\n",
      "  Using cached sentencepiece-0.2.0-cp310-cp310-manylinux_2_17_x86_64.manylinux2014_x86_64.whl.metadata (7.7 kB)\n",
      "Collecting tiktoken>=0.6.0 (from vllm)\n",
      "  Downloading tiktoken-0.7.0-cp310-cp310-manylinux_2_17_x86_64.manylinux2014_x86_64.whl.metadata (6.6 kB)\n",
      "Collecting opencv-python-headless<5.0.0,>=4.0.0 (from mistral_common[opencv]>=1.5.0->vllm)\n",
      "  Downloading opencv_python_headless-4.10.0.84-cp37-abi3-manylinux_2_17_x86_64.manylinux2014_x86_64.whl.metadata (20 kB)\n",
      "Requirement already satisfied: annotated-types>=0.6.0 in /home/haiqv/conda/envs/py310/lib/python3.10/site-packages (from pydantic<3,>=1.9.0->openai) (0.7.0)\n",
      "Requirement already satisfied: pydantic-core==2.27.2 in /home/haiqv/conda/envs/py310/lib/python3.10/site-packages (from pydantic<3,>=1.9.0->openai) (2.27.2)\n",
      "Requirement already satisfied: click>=7.0 in /home/haiqv/conda/envs/py310/lib/python3.10/site-packages (from ray>=2.9->ray[default]>=2.9->vllm) (8.1.8)\n",
      "Collecting msgpack<2.0.0,>=1.0.0 (from ray>=2.9->ray[default]>=2.9->vllm)\n",
      "  Using cached msgpack-1.1.0-cp310-cp310-manylinux_2_17_x86_64.manylinux2014_x86_64.whl.metadata (8.4 kB)\n",
      "Requirement already satisfied: aiosignal in /home/haiqv/conda/envs/py310/lib/python3.10/site-packages (from ray>=2.9->ray[default]>=2.9->vllm) (1.3.2)\n",
      "Requirement already satisfied: frozenlist in /home/haiqv/conda/envs/py310/lib/python3.10/site-packages (from ray>=2.9->ray[default]>=2.9->vllm) (1.5.0)\n",
      "Collecting aiohttp-cors (from ray[default]>=2.9->vllm)\n",
      "  Downloading aiohttp_cors-0.7.0-py3-none-any.whl.metadata (20 kB)\n",
      "Collecting colorful (from ray[default]>=2.9->vllm)\n",
      "  Downloading colorful-0.5.6-py2.py3-none-any.whl.metadata (16 kB)\n",
      "Collecting py-spy>=0.2.0 (from ray[default]>=2.9->vllm)\n",
      "  Downloading py_spy-0.4.0-py2.py3-none-manylinux_2_5_x86_64.manylinux1_x86_64.whl.metadata (16 kB)\n",
      "Collecting opencensus (from ray[default]>=2.9->vllm)\n",
      "  Downloading opencensus-0.11.4-py2.py3-none-any.whl.metadata (12 kB)\n",
      "Collecting smart-open (from ray[default]>=2.9->vllm)\n",
      "  Downloading smart_open-7.1.0-py3-none-any.whl.metadata (24 kB)\n",
      "Collecting virtualenv!=20.21.1,>=20.0.24 (from ray[default]>=2.9->vllm)\n",
      "  Downloading virtualenv-20.28.1-py3-none-any.whl.metadata (4.5 kB)\n",
      "Collecting grpcio>=1.42.0 (from ray[default]>=2.9->vllm)\n",
      "  Using cached grpcio-1.68.1-cp310-cp310-manylinux_2_17_x86_64.manylinux2014_x86_64.whl.metadata (3.9 kB)\n",
      "Collecting memray (from ray[default]>=2.9->vllm)\n",
      "  Downloading memray-1.15.0-cp310-cp310-manylinux_2_12_x86_64.manylinux2010_x86_64.whl.metadata (19 kB)\n",
      "Requirement already satisfied: aiohappyeyeballs>=2.3.0 in /home/haiqv/conda/envs/py310/lib/python3.10/site-packages (from aiohttp->vllm) (2.4.4)\n",
      "Requirement already satisfied: async-timeout<6.0,>=4.0 in /home/haiqv/conda/envs/py310/lib/python3.10/site-packages (from aiohttp->vllm) (5.0.1)\n",
      "Requirement already satisfied: attrs>=17.3.0 in /home/haiqv/conda/envs/py310/lib/python3.10/site-packages (from aiohttp->vllm) (24.3.0)\n",
      "Requirement already satisfied: multidict<7.0,>=4.5 in /home/haiqv/conda/envs/py310/lib/python3.10/site-packages (from aiohttp->vllm) (6.1.0)\n",
      "Requirement already satisfied: propcache>=0.2.0 in /home/haiqv/conda/envs/py310/lib/python3.10/site-packages (from aiohttp->vllm) (0.2.1)\n",
      "Requirement already satisfied: yarl<2.0,>=1.17.0 in /home/haiqv/conda/envs/py310/lib/python3.10/site-packages (from aiohttp->vllm) (1.18.3)\n",
      "Requirement already satisfied: charset-normalizer<4,>=2 in /home/haiqv/conda/envs/py310/lib/python3.10/site-packages (from requests>=2.26.0->vllm) (3.4.0)\n",
      "Requirement already satisfied: urllib3<3,>=1.21.1 in /home/haiqv/conda/envs/py310/lib/python3.10/site-packages (from requests>=2.26.0->vllm) (2.2.3)\n",
      "Requirement already satisfied: regex>=2022.1.18 in /home/haiqv/conda/envs/py310/lib/python3.10/site-packages (from tiktoken>=0.6.0->vllm) (2024.11.6)\n",
      "Requirement already satisfied: huggingface-hub<1.0,>=0.16.4 in /home/haiqv/conda/envs/py310/lib/python3.10/site-packages (from tokenizers>=0.19.1->vllm) (0.26.3)\n",
      "Requirement already satisfied: safetensors>=0.4.1 in /home/haiqv/conda/envs/py310/lib/python3.10/site-packages (from transformers>=4.45.2->vllm) (0.4.5)\n",
      "Collecting pybind11 (from xgrammar>=0.1.6->vllm)\n",
      "  Using cached pybind11-2.13.6-py3-none-any.whl.metadata (9.5 kB)\n",
      "Collecting pytest (from xgrammar>=0.1.6->vllm)\n",
      "  Using cached pytest-8.3.4-py3-none-any.whl.metadata (7.5 kB)\n",
      "Requirement already satisfied: zipp>=3.20 in /home/haiqv/conda/envs/py310/lib/python3.10/site-packages (from importlib_metadata->vllm) (3.21.0)\n",
      "Collecting httptools>=0.6.3 (from uvicorn[standard]->vllm)\n",
      "  Downloading httptools-0.6.4-cp310-cp310-manylinux_2_5_x86_64.manylinux1_x86_64.manylinux_2_17_x86_64.manylinux2014_x86_64.whl.metadata (3.6 kB)\n",
      "Requirement already satisfied: python-dotenv>=0.13 in /home/haiqv/conda/envs/py310/lib/python3.10/site-packages (from uvicorn[standard]->vllm) (1.0.1)\n",
      "Collecting uvloop!=0.15.0,!=0.15.1,>=0.14.0 (from uvicorn[standard]->vllm)\n",
      "  Downloading uvloop-0.21.0-cp310-cp310-manylinux_2_17_x86_64.manylinux2014_x86_64.whl.metadata (4.9 kB)\n",
      "Collecting watchfiles>=0.13 (from uvicorn[standard]->vllm)\n",
      "  Downloading watchfiles-1.0.3-cp310-cp310-manylinux_2_17_x86_64.manylinux2014_x86_64.whl.metadata (4.9 kB)\n",
      "Requirement already satisfied: websockets>=10.4 in /home/haiqv/conda/envs/py310/lib/python3.10/site-packages (from uvicorn[standard]->vllm) (11.0.3)\n",
      "Requirement already satisfied: jsonschema-specifications>=2023.03.6 in /home/haiqv/conda/envs/py310/lib/python3.10/site-packages (from jsonschema->outlines==0.1.11->vllm) (2024.10.1)\n",
      "Requirement already satisfied: rpds-py>=0.7.1 in /home/haiqv/conda/envs/py310/lib/python3.10/site-packages (from jsonschema->outlines==0.1.11->vllm) (0.22.3)\n",
      "Collecting distlib<1,>=0.3.7 (from virtualenv!=20.21.1,>=20.0.24->ray[default]>=2.9->vllm)\n",
      "  Downloading distlib-0.3.9-py2.py3-none-any.whl.metadata (5.2 kB)\n",
      "Requirement already satisfied: platformdirs<5,>=3.9.1 in /home/haiqv/conda/envs/py310/lib/python3.10/site-packages (from virtualenv!=20.21.1,>=20.0.24->ray[default]>=2.9->vllm) (4.3.6)\n",
      "Requirement already satisfied: MarkupSafe>=2.0 in /home/haiqv/conda/envs/py310/lib/python3.10/site-packages (from jinja2->outlines==0.1.11->vllm) (2.1.5)\n",
      "Requirement already satisfied: rich>=11.2.0 in /home/haiqv/conda/envs/py310/lib/python3.10/site-packages (from memray->ray[default]>=2.9->vllm) (13.9.4)\n",
      "Collecting textual>=0.41.0 (from memray->ray[default]>=2.9->vllm)\n",
      "  Downloading textual-1.0.0-py3-none-any.whl.metadata (9.0 kB)\n",
      "Collecting opencensus-context>=0.1.3 (from opencensus->ray[default]>=2.9->vllm)\n",
      "  Downloading opencensus_context-0.1.3-py2.py3-none-any.whl.metadata (3.3 kB)\n",
      "Requirement already satisfied: six~=1.16 in /home/haiqv/conda/envs/py310/lib/python3.10/site-packages (from opencensus->ray[default]>=2.9->vllm) (1.17.0)\n",
      "Collecting google-api-core<3.0.0,>=1.0.0 (from opencensus->ray[default]>=2.9->vllm)\n",
      "  Downloading google_api_core-2.24.0-py3-none-any.whl.metadata (3.0 kB)\n",
      "Collecting iniconfig (from pytest->xgrammar>=0.1.6->vllm)\n",
      "  Using cached iniconfig-2.0.0-py3-none-any.whl.metadata (2.6 kB)\n",
      "Collecting pluggy<2,>=1.5 (from pytest->xgrammar>=0.1.6->vllm)\n",
      "  Using cached pluggy-1.5.0-py3-none-any.whl.metadata (4.8 kB)\n",
      "Collecting tomli>=1 (from pytest->xgrammar>=0.1.6->vllm)\n",
      "  Using cached tomli-2.2.1-py3-none-any.whl.metadata (10 kB)\n",
      "Collecting wrapt (from smart-open->ray[default]>=2.9->vllm)\n",
      "  Using cached wrapt-1.17.0-cp310-cp310-manylinux_2_5_x86_64.manylinux1_x86_64.manylinux_2_17_x86_64.manylinux2014_x86_64.whl.metadata (6.4 kB)\n",
      "Collecting googleapis-common-protos<2.0.dev0,>=1.56.2 (from google-api-core<3.0.0,>=1.0.0->opencensus->ray[default]>=2.9->vllm)\n",
      "  Downloading googleapis_common_protos-1.66.0-py2.py3-none-any.whl.metadata (1.5 kB)\n",
      "Collecting protobuf (from vllm)\n",
      "  Downloading protobuf-5.29.2-cp38-abi3-manylinux2014_x86_64.whl.metadata (592 bytes)\n",
      "Collecting proto-plus<2.0.0dev,>=1.22.3 (from google-api-core<3.0.0,>=1.0.0->opencensus->ray[default]>=2.9->vllm)\n",
      "  Downloading proto_plus-1.25.0-py3-none-any.whl.metadata (2.2 kB)\n",
      "Collecting google-auth<3.0.dev0,>=2.14.1 (from google-api-core<3.0.0,>=1.0.0->opencensus->ray[default]>=2.9->vllm)\n",
      "  Downloading google_auth-2.37.0-py2.py3-none-any.whl.metadata (4.8 kB)\n",
      "Requirement already satisfied: markdown-it-py>=2.2.0 in /home/haiqv/conda/envs/py310/lib/python3.10/site-packages (from rich>=11.2.0->memray->ray[default]>=2.9->vllm) (2.2.0)\n",
      "Requirement already satisfied: pygments<3.0.0,>=2.13.0 in /home/haiqv/conda/envs/py310/lib/python3.10/site-packages (from rich>=11.2.0->memray->ray[default]>=2.9->vllm) (2.18.0)\n",
      "Collecting cachetools<6.0,>=2.0.0 (from google-auth<3.0.dev0,>=2.14.1->google-api-core<3.0.0,>=1.0.0->opencensus->ray[default]>=2.9->vllm)\n",
      "  Downloading cachetools-5.5.0-py3-none-any.whl.metadata (5.3 kB)\n",
      "Collecting pyasn1-modules>=0.2.1 (from google-auth<3.0.dev0,>=2.14.1->google-api-core<3.0.0,>=1.0.0->opencensus->ray[default]>=2.9->vllm)\n",
      "  Downloading pyasn1_modules-0.4.1-py3-none-any.whl.metadata (3.5 kB)\n",
      "Collecting rsa<5,>=3.1.4 (from google-auth<3.0.dev0,>=2.14.1->google-api-core<3.0.0,>=1.0.0->opencensus->ray[default]>=2.9->vllm)\n",
      "  Downloading rsa-4.9-py3-none-any.whl.metadata (4.2 kB)\n",
      "Requirement already satisfied: mdurl~=0.1 in /home/haiqv/conda/envs/py310/lib/python3.10/site-packages (from markdown-it-py>=2.2.0->rich>=11.2.0->memray->ray[default]>=2.9->vllm) (0.1.2)\n",
      "Requirement already satisfied: linkify-it-py<3,>=1 in /home/haiqv/conda/envs/py310/lib/python3.10/site-packages (from markdown-it-py[linkify,plugins]>=2.1.0->textual>=0.41.0->memray->ray[default]>=2.9->vllm) (2.0.3)\n",
      "Requirement already satisfied: mdit-py-plugins in /home/haiqv/conda/envs/py310/lib/python3.10/site-packages (from markdown-it-py[linkify,plugins]>=2.1.0->textual>=0.41.0->memray->ray[default]>=2.9->vllm) (0.3.3)\n",
      "Requirement already satisfied: uc-micro-py in /home/haiqv/conda/envs/py310/lib/python3.10/site-packages (from linkify-it-py<3,>=1->markdown-it-py[linkify,plugins]>=2.1.0->textual>=0.41.0->memray->ray[default]>=2.9->vllm) (1.0.3)\n",
      "Collecting pyasn1<0.7.0,>=0.4.6 (from pyasn1-modules>=0.2.1->google-auth<3.0.dev0,>=2.14.1->google-api-core<3.0.0,>=1.0.0->opencensus->ray[default]>=2.9->vllm)\n",
      "  Downloading pyasn1-0.6.1-py3-none-any.whl.metadata (8.4 kB)\n",
      "Downloading vllm-0.6.6.post1-cp38-abi3-manylinux1_x86_64.whl (201.1 MB)\n",
      "\u001b[2K   \u001b[90m━━━━━━━━━━━━━━━━━━━━━━━━━━━━━━━━━━━━━━━━\u001b[0m \u001b[32m201.1/201.1 MB\u001b[0m \u001b[31m48.2 MB/s\u001b[0m eta \u001b[36m0:00:00\u001b[0m00:01\u001b[0m00:01\u001b[0m\n",
      "\u001b[?25hDownloading compressed_tensors-0.8.1-py3-none-any.whl (87 kB)\n",
      "Downloading depyf-0.18.0-py3-none-any.whl (38 kB)\n",
      "Downloading gguf-0.10.0-py3-none-any.whl (71 kB)\n",
      "Using cached lark-1.2.2-py3-none-any.whl (111 kB)\n",
      "Downloading outlines-0.1.11-py3-none-any.whl (87 kB)\n",
      "Downloading xformers-0.0.28.post3-cp310-cp310-manylinux_2_28_x86_64.whl (16.7 MB)\n",
      "\u001b[2K   \u001b[90m━━━━━━━━━━━━━━━━━━━━━━━━━━━━━━━━━━━━━━━━\u001b[0m \u001b[32m16.7/16.7 MB\u001b[0m \u001b[31m100.3 MB/s\u001b[0m eta \u001b[36m0:00:00\u001b[0m\n",
      "\u001b[?25hDownloading outlines_core-0.1.26-cp310-cp310-manylinux_2_17_x86_64.manylinux2014_x86_64.whl (343 kB)\n",
      "Downloading lm_format_enforcer-0.10.9-py3-none-any.whl (43 kB)\n",
      "Downloading mistral_common-1.5.1-py3-none-any.whl (6.5 MB)\n",
      "\u001b[2K   \u001b[90m━━━━━━━━━━━━━━━━━━━━━━━━━━━━━━━━━━━━━━━━\u001b[0m \u001b[32m6.5/6.5 MB\u001b[0m \u001b[31m42.2 MB/s\u001b[0m eta \u001b[36m0:00:00\u001b[0m\n",
      "\u001b[?25hUsing cached sentencepiece-0.2.0-cp310-cp310-manylinux_2_17_x86_64.manylinux2014_x86_64.whl (1.3 MB)\n",
      "Using cached nvidia_ml_py-12.560.30-py3-none-any.whl (40 kB)\n",
      "Downloading prometheus_client-0.21.1-py3-none-any.whl (54 kB)\n",
      "Downloading prometheus_fastapi_instrumentator-7.0.0-py3-none-any.whl (19 kB)\n",
      "Downloading ray-2.40.0-cp310-cp310-manylinux2014_x86_64.whl (66.8 MB)\n",
      "\u001b[2K   \u001b[90m━━━━━━━━━━━━━━━━━━━━━━━━━━━━━━━━━━━━━━━━\u001b[0m \u001b[32m66.8/66.8 MB\u001b[0m \u001b[31m68.1 MB/s\u001b[0m eta \u001b[36m0:00:00\u001b[0m00:01\u001b[0m00:01\u001b[0m\n",
      "\u001b[?25hDownloading tiktoken-0.7.0-cp310-cp310-manylinux_2_17_x86_64.manylinux2014_x86_64.whl (1.1 MB)\n",
      "\u001b[2K   \u001b[90m━━━━━━━━━━━━━━━━━━━━━━━━━━━━━━━━━━━━━━━━\u001b[0m \u001b[32m1.1/1.1 MB\u001b[0m \u001b[31m44.1 MB/s\u001b[0m eta \u001b[36m0:00:00\u001b[0m\n",
      "\u001b[?25hDownloading xgrammar-0.1.8-cp310-cp310-manylinux_2_27_x86_64.manylinux_2_28_x86_64.whl (339 kB)\n",
      "Downloading blake3-1.0.0-cp310-cp310-manylinux_2_17_x86_64.manylinux2014_x86_64.whl (367 kB)\n",
      "Using cached cloudpickle-3.1.0-py3-none-any.whl (22 kB)\n",
      "Downloading msgspec-0.19.0-cp310-cp310-manylinux_2_17_x86_64.manylinux2014_x86_64.whl (211 kB)\n",
      "Downloading partial_json_parser-0.2.1.1.post4-py3-none-any.whl (9.9 kB)\n",
      "Downloading py_cpuinfo-9.0.0-py3-none-any.whl (22 kB)\n",
      "Using cached grpcio-1.68.1-cp310-cp310-manylinux_2_17_x86_64.manylinux2014_x86_64.whl (5.9 MB)\n",
      "Downloading httptools-0.6.4-cp310-cp310-manylinux_2_5_x86_64.manylinux1_x86_64.manylinux_2_17_x86_64.manylinux2014_x86_64.whl (442 kB)\n",
      "Downloading interegular-0.3.3-py37-none-any.whl (23 kB)\n",
      "Using cached msgpack-1.1.0-cp310-cp310-manylinux_2_17_x86_64.manylinux2014_x86_64.whl (378 kB)\n",
      "Downloading opencv_python_headless-4.10.0.84-cp37-abi3-manylinux_2_17_x86_64.manylinux2014_x86_64.whl (49.9 MB)\n",
      "\u001b[2K   \u001b[90m━━━━━━━━━━━━━━━━━━━━━━━━━━━━━━━━━━━━━━━━\u001b[0m \u001b[32m49.9/49.9 MB\u001b[0m \u001b[31m108.1 MB/s\u001b[0m eta \u001b[36m0:00:00\u001b[0ma \u001b[36m0:00:01\u001b[0m\n",
      "\u001b[?25hDownloading py_spy-0.4.0-py2.py3-none-manylinux_2_5_x86_64.manylinux1_x86_64.whl (2.7 MB)\n",
      "\u001b[2K   \u001b[90m━━━━━━━━━━━━━━━━━━━━━━━━━━━━━━━━━━━━━━━━\u001b[0m \u001b[32m2.7/2.7 MB\u001b[0m \u001b[31m44.0 MB/s\u001b[0m eta \u001b[36m0:00:00\u001b[0m\n",
      "\u001b[?25hDownloading uvloop-0.21.0-cp310-cp310-manylinux_2_17_x86_64.manylinux2014_x86_64.whl (3.8 MB)\n",
      "\u001b[2K   \u001b[90m━━━━━━━━━━━━━━━━━━━━━━━━━━━━━━━━━━━━━━━━\u001b[0m \u001b[32m3.8/3.8 MB\u001b[0m \u001b[31m84.0 MB/s\u001b[0m eta \u001b[36m0:00:00\u001b[0m\n",
      "\u001b[?25hDownloading virtualenv-20.28.1-py3-none-any.whl (4.3 MB)\n",
      "\u001b[2K   \u001b[90m━━━━━━━━━━━━━━━━━━━━━━━━━━━━━━━━━━━━━━━━\u001b[0m \u001b[32m4.3/4.3 MB\u001b[0m \u001b[31m86.5 MB/s\u001b[0m eta \u001b[36m0:00:00\u001b[0m\n",
      "\u001b[?25hDownloading watchfiles-1.0.3-cp310-cp310-manylinux_2_17_x86_64.manylinux2014_x86_64.whl (443 kB)\n",
      "Downloading aiohttp_cors-0.7.0-py3-none-any.whl (27 kB)\n",
      "Downloading airportsdata-20241001-py3-none-any.whl (912 kB)\n",
      "\u001b[2K   \u001b[90m━━━━━━━━━━━━━━━━━━━━━━━━━━━━━━━━━━━━━━━━\u001b[0m \u001b[32m912.7/912.7 kB\u001b[0m \u001b[31m32.7 MB/s\u001b[0m eta \u001b[36m0:00:00\u001b[0m\n",
      "\u001b[?25hDownloading astor-0.8.1-py2.py3-none-any.whl (27 kB)\n",
      "Downloading colorful-0.5.6-py2.py3-none-any.whl (201 kB)\n",
      "Downloading diskcache-5.6.3-py3-none-any.whl (45 kB)\n",
      "Downloading memray-1.15.0-cp310-cp310-manylinux_2_12_x86_64.manylinux2010_x86_64.whl (8.3 MB)\n",
      "\u001b[2K   \u001b[90m━━━━━━━━━━━━━━━━━━━━━━━━━━━━━━━━━━━━━━━━\u001b[0m \u001b[32m8.3/8.3 MB\u001b[0m \u001b[31m97.0 MB/s\u001b[0m eta \u001b[36m0:00:00\u001b[0m\n",
      "\u001b[?25hDownloading opencensus-0.11.4-py2.py3-none-any.whl (128 kB)\n",
      "Using cached pybind11-2.13.6-py3-none-any.whl (243 kB)\n",
      "Downloading pycountry-24.6.1-py3-none-any.whl (6.3 MB)\n",
      "\u001b[2K   \u001b[90m━━━━━━━━━━━━━━━━━━━━━━━━━━━━━━━━━━━━━━━━\u001b[0m \u001b[32m6.3/6.3 MB\u001b[0m \u001b[31m92.3 MB/s\u001b[0m eta \u001b[36m0:00:00\u001b[0m\n",
      "\u001b[?25hUsing cached pytest-8.3.4-py3-none-any.whl (343 kB)\n",
      "Downloading smart_open-7.1.0-py3-none-any.whl (61 kB)\n",
      "Downloading distlib-0.3.9-py2.py3-none-any.whl (468 kB)\n",
      "Downloading google_api_core-2.24.0-py3-none-any.whl (158 kB)\n",
      "Downloading protobuf-5.29.2-cp38-abi3-manylinux2014_x86_64.whl (319 kB)\n",
      "Downloading opencensus_context-0.1.3-py2.py3-none-any.whl (5.1 kB)\n",
      "Using cached pluggy-1.5.0-py3-none-any.whl (20 kB)\n",
      "Downloading textual-1.0.0-py3-none-any.whl (660 kB)\n",
      "\u001b[2K   \u001b[90m━━━━━━━━━━━━━━━━━━━━━━━━━━━━━━━━━━━━━━━━\u001b[0m \u001b[32m660.5/660.5 kB\u001b[0m \u001b[31m32.4 MB/s\u001b[0m eta \u001b[36m0:00:00\u001b[0m\n",
      "\u001b[?25hUsing cached tomli-2.2.1-py3-none-any.whl (14 kB)\n",
      "Using cached iniconfig-2.0.0-py3-none-any.whl (5.9 kB)\n",
      "Using cached wrapt-1.17.0-cp310-cp310-manylinux_2_5_x86_64.manylinux1_x86_64.manylinux_2_17_x86_64.manylinux2014_x86_64.whl (82 kB)\n",
      "Downloading google_auth-2.37.0-py2.py3-none-any.whl (209 kB)\n",
      "Downloading googleapis_common_protos-1.66.0-py2.py3-none-any.whl (221 kB)\n",
      "Downloading proto_plus-1.25.0-py3-none-any.whl (50 kB)\n",
      "Downloading cachetools-5.5.0-py3-none-any.whl (9.5 kB)\n",
      "Downloading pyasn1_modules-0.4.1-py3-none-any.whl (181 kB)\n",
      "Downloading rsa-4.9-py3-none-any.whl (34 kB)\n",
      "Downloading pyasn1-0.6.1-py3-none-any.whl (83 kB)\n",
      "Installing collected packages: sentencepiece, py-spy, py-cpuinfo, opencensus-context, nvidia-ml-py, distlib, colorful, blake3, wrapt, virtualenv, uvloop, tomli, pycountry, pybind11, pyasn1, protobuf, prometheus_client, pluggy, partial-json-parser, opencv-python-headless, msgspec, msgpack, lark, interegular, iniconfig, httptools, grpcio, gguf, diskcache, cloudpickle, cachetools, astor, airportsdata, watchfiles, tiktoken, smart-open, rsa, pytest, pyasn1-modules, proto-plus, googleapis-common-protos, depyf, xformers, prometheus-fastapi-instrumentator, lm-format-enforcer, google-auth, textual, ray, outlines_core, mistral_common, google-api-core, aiohttp-cors, xgrammar, outlines, opencensus, memray, compressed-tensors, vllm\n",
      "  Attempting uninstall: sentencepiece\n",
      "    Found existing installation: sentencepiece 0.1.97\n",
      "    Uninstalling sentencepiece-0.1.97:\n",
      "      Successfully uninstalled sentencepiece-0.1.97\n",
      "  Attempting uninstall: protobuf\n",
      "    Found existing installation: protobuf 3.20.0\n",
      "    Uninstalling protobuf-3.20.0:\n",
      "      Successfully uninstalled protobuf-3.20.0\n",
      "  Attempting uninstall: tiktoken\n",
      "    Found existing installation: tiktoken 0.8.0\n",
      "    Uninstalling tiktoken-0.8.0:\n",
      "      Successfully uninstalled tiktoken-0.8.0\n",
      "Successfully installed aiohttp-cors-0.7.0 airportsdata-20241001 astor-0.8.1 blake3-1.0.0 cachetools-5.5.0 cloudpickle-3.1.0 colorful-0.5.6 compressed-tensors-0.8.1 depyf-0.18.0 diskcache-5.6.3 distlib-0.3.9 gguf-0.10.0 google-api-core-2.24.0 google-auth-2.37.0 googleapis-common-protos-1.66.0 grpcio-1.68.1 httptools-0.6.4 iniconfig-2.0.0 interegular-0.3.3 lark-1.2.2 lm-format-enforcer-0.10.9 memray-1.15.0 mistral_common-1.5.1 msgpack-1.1.0 msgspec-0.19.0 nvidia-ml-py-12.560.30 opencensus-0.11.4 opencensus-context-0.1.3 opencv-python-headless-4.10.0.84 outlines-0.1.11 outlines_core-0.1.26 partial-json-parser-0.2.1.1.post4 pluggy-1.5.0 prometheus-fastapi-instrumentator-7.0.0 prometheus_client-0.21.1 proto-plus-1.25.0 protobuf-5.29.2 py-cpuinfo-9.0.0 py-spy-0.4.0 pyasn1-0.6.1 pyasn1-modules-0.4.1 pybind11-2.13.6 pycountry-24.6.1 pytest-8.3.4 ray-2.40.0 rsa-4.9 sentencepiece-0.2.0 smart-open-7.1.0 textual-1.0.0 tiktoken-0.7.0 tomli-2.2.1 uvloop-0.21.0 virtualenv-20.28.1 vllm-0.6.6.post1 watchfiles-1.0.3 wrapt-1.17.0 xformers-0.0.28.post3 xgrammar-0.1.8\n"
     ]
    }
   ],
   "source": [
    "!pip install openai vllm"
   ]
  },
  {
   "cell_type": "code",
   "execution_count": 2,
   "metadata": {},
   "outputs": [],
   "source": [
    "import os \n",
    "os.environ[\"CUDA_VISIBLE_DEVICES\"] = \"1\" "
   ]
  },
  {
   "cell_type": "markdown",
   "metadata": {},
   "source": [
    "## 모델 로딩 및 테스트"
   ]
  },
  {
   "cell_type": "code",
   "execution_count": 3,
   "metadata": {},
   "outputs": [
    {
     "name": "stderr",
     "output_type": "stream",
     "text": [
      "/home/haiqv/conda/envs/py310/lib/python3.10/site-packages/tqdm/auto.py:21: TqdmWarning: IProgress not found. Please update jupyter and ipywidgets. See https://ipywidgets.readthedocs.io/en/stable/user_install.html\n",
      "  from .autonotebook import tqdm as notebook_tqdm\n",
      "2025-01-03 09:19:51,942\tINFO util.py:154 -- Missing packages: ['ipywidgets']. Run `pip install -U ipywidgets`, then restart the notebook server for rich notebook output.\n"
     ]
    },
    {
     "name": "stdout",
     "output_type": "stream",
     "text": [
      "INFO 01-03 09:20:01 config.py:510] This model supports multiple tasks: {'embed', 'score', 'reward', 'generate', 'classify'}. Defaulting to 'generate'.\n",
      "WARNING 01-03 09:20:01 arg_utils.py:1103] Chunked prefill is enabled by default for models with max_model_len > 32K. Currently, chunked prefill might not work with some features or models. If you encounter any issues, please disable chunked prefill by setting --enable-chunked-prefill=False.\n",
      "INFO 01-03 09:20:01 config.py:1458] Chunked prefill is enabled with max_num_batched_tokens=2048.\n",
      "INFO 01-03 09:20:01 llm_engine.py:234] Initializing an LLM engine (v0.6.6.post1) with config: model='daje/meta-llama3.1-8B-qna-koalpaca-v1.1', speculative_config=None, tokenizer='daje/meta-llama3.1-8B-qna-koalpaca-v1.1', skip_tokenizer_init=False, tokenizer_mode=auto, revision=None, override_neuron_config=None, tokenizer_revision=None, trust_remote_code=False, dtype=torch.bfloat16, max_seq_len=131072, download_dir=None, load_format=auto, tensor_parallel_size=1, pipeline_parallel_size=1, disable_custom_all_reduce=False, quantization=None, enforce_eager=False, kv_cache_dtype=auto, quantization_param_path=None, device_config=cuda, decoding_config=DecodingConfig(guided_decoding_backend='xgrammar'), observability_config=ObservabilityConfig(otlp_traces_endpoint=None, collect_model_forward_time=False, collect_model_execute_time=False), seed=0, served_model_name=daje/meta-llama3.1-8B-qna-koalpaca-v1.1, num_scheduler_steps=1, multi_step_stream_outputs=True, enable_prefix_caching=False, chunked_prefill_enabled=True, use_async_output_proc=True, disable_mm_preprocessor_cache=False, mm_processor_kwargs=None, pooler_config=None, compilation_config={\"splitting_ops\":[\"vllm.unified_attention\",\"vllm.unified_attention_with_output\"],\"candidate_compile_sizes\":[],\"compile_sizes\":[],\"capture_sizes\":[256,248,240,232,224,216,208,200,192,184,176,168,160,152,144,136,128,120,112,104,96,88,80,72,64,56,48,40,32,24,16,8,4,2,1],\"max_capture_size\":256}, use_cached_outputs=False, \n",
      "INFO 01-03 09:20:05 selector.py:120] Using Flash Attention backend.\n",
      "INFO 01-03 09:20:06 model_runner.py:1094] Starting to load model daje/meta-llama3.1-8B-qna-koalpaca-v1.1...\n",
      "INFO 01-03 09:20:07 weight_utils.py:251] Using model weights format ['*.safetensors']\n"
     ]
    },
    {
     "name": "stderr",
     "output_type": "stream",
     "text": [
      "Loading safetensors checkpoint shards:   0% Completed | 0/4 [00:00<?, ?it/s]\n",
      "Loading safetensors checkpoint shards:  25% Completed | 1/4 [00:04<00:14,  4.75s/it]\n",
      "Loading safetensors checkpoint shards:  50% Completed | 2/4 [00:11<00:11,  5.75s/it]\n",
      "Loading safetensors checkpoint shards:  75% Completed | 3/4 [00:12<00:03,  3.88s/it]\n",
      "Loading safetensors checkpoint shards: 100% Completed | 4/4 [00:19<00:00,  4.81s/it]\n",
      "Loading safetensors checkpoint shards: 100% Completed | 4/4 [00:19<00:00,  4.77s/it]\n",
      "\n"
     ]
    },
    {
     "name": "stdout",
     "output_type": "stream",
     "text": [
      "INFO 01-03 09:23:23 model_runner.py:1099] Loading model weights took 14.9888 GB\n",
      "INFO 01-03 09:23:24 worker.py:241] Memory profiling takes 1.00 seconds\n",
      "INFO 01-03 09:23:24 worker.py:241] the current vLLM instance can use total_gpu_memory (39.39GiB) x gpu_memory_utilization (0.90) = 35.45GiB\n",
      "INFO 01-03 09:23:24 worker.py:241] model weights take 14.99GiB; non_torch_memory takes 0.12GiB; PyTorch activation peak memory takes 1.19GiB; the rest of the memory reserved for KV Cache is 19.16GiB.\n",
      "INFO 01-03 09:23:24 gpu_executor.py:76] # GPU blocks: 9808, # CPU blocks: 2048\n",
      "INFO 01-03 09:23:24 gpu_executor.py:80] Maximum concurrency for 131072 tokens per request: 1.20x\n",
      "INFO 01-03 09:23:33 model_runner.py:1415] Capturing cudagraphs for decoding. This may lead to unexpected consequences if the model is not static. To run the model in eager mode, set 'enforce_eager=True' or use '--enforce-eager' in the CLI. If out-of-memory error occurs during cudagraph capture, consider decreasing `gpu_memory_utilization` or switching to eager mode. You can also reduce the `max_num_seqs` as needed to decrease memory usage.\n"
     ]
    },
    {
     "name": "stderr",
     "output_type": "stream",
     "text": [
      "Capturing CUDA graph shapes: 100%|██████████| 35/35 [00:14<00:00,  2.38it/s]"
     ]
    },
    {
     "name": "stdout",
     "output_type": "stream",
     "text": [
      "INFO 01-03 09:23:48 model_runner.py:1535] Graph capturing finished in 15 secs, took 0.88 GiB\n",
      "INFO 01-03 09:23:48 llm_engine.py:431] init engine (profile, create kv cache, warmup model) took 25.49 seconds\n"
     ]
    },
    {
     "name": "stderr",
     "output_type": "stream",
     "text": [
      "\n"
     ]
    }
   ],
   "source": [
    "import openai\n",
    "from vllm import LLM, SamplingParams\n",
    "\n",
    "llm = LLM(model=\"daje/meta-llama3.1-8B-qna-koalpaca-v1.1\")"
   ]
  },
  {
   "cell_type": "code",
   "execution_count": 4,
   "metadata": {},
   "outputs": [
    {
     "name": "stderr",
     "output_type": "stream",
     "text": [
      "Processed prompts: 100%|██████████| 4/4 [00:00<00:00, 10.14it/s, est. speed input: 63.36 toks/s, output: 192.61 toks/s]\n"
     ]
    }
   ],
   "source": [
    "prompts = [\n",
    "    \"안녕 내 이름은\",\n",
    "    \"한국의 대통령은 \",\n",
    "    \"대한민국의 수도는 현재\",\n",
    "    \"AI의 미래는\",\n",
    "]\n",
    "sampling_params = SamplingParams(temperature=0.9, top_p=0.95, max_tokens=20)\n",
    "outputs = llm.generate(prompts, sampling_params)"
   ]
  },
  {
   "cell_type": "code",
   "execution_count": 5,
   "metadata": {},
   "outputs": [
    {
     "name": "stdout",
     "output_type": "stream",
     "text": [
      "Prompt: '안녕 내 이름은', Generated text: ' 이혜영입니다. 제가 오늘 첫 블로그를 작성하는데,예전 TV에서'\n",
      "Prompt: '한국의 대통령은 ', Generated text: '5년마다 선거를 하지만, 임기를 중도에서 조기 폐지할 수도 있습니다.'\n",
      "Prompt: '대한민국의 수도는 현재', Generated text: ' 서울인데, 이전에 다른 지역에서 수도가 배정되었던 적이 있을까요?'\n",
      "Prompt: 'AI의 미래는', Generated text: ' 어떻게 될까요? 인류에게 미치는 영향은 무엇인가요?'\n"
     ]
    }
   ],
   "source": [
    "for output in outputs:\n",
    "    prompt = output.prompt\n",
    "    generated_text = output.outputs[0].text\n",
    "    print(f\"Prompt: {prompt!r}, Generated text: {generated_text!r}\")"
   ]
  },
  {
   "cell_type": "code",
   "execution_count": 6,
   "metadata": {},
   "outputs": [
    {
     "name": "stderr",
     "output_type": "stream",
     "text": [
      "Processed prompts: 100%|██████████| 1/1 [00:00<00:00,  6.61it/s, est. speed input: 86.40 toks/s, output: 59.81 toks/s]\n"
     ]
    },
    {
     "data": {
      "text/plain": [
       "' 10가지 이상 추천해주세요.'"
      ]
     },
     "execution_count": 6,
     "metadata": {},
     "output_type": "execute_result"
    }
   ],
   "source": [
    "outputs = llm.generate(\"한국에서 유명한 음식은 무엇인가요?\")\n",
    "outputs[0].outputs[0].text"
   ]
  },
  {
   "cell_type": "markdown",
   "metadata": {},
   "source": [
    "## 번외, 런팟에서 API 테스트"
   ]
  },
  {
   "cell_type": "code",
   "execution_count": null,
   "metadata": {},
   "outputs": [],
   "source": [
    "import os\n",
    "from openai import OpenAI\n",
    "\n",
    "os.environ[\"RUNPOD_API_KEY\"] = \"your_runpod_api_key\"\n",
    "runpod_url = \"runpod_url_key\"\n",
    "openai_api_base = f\"https://api.runpod.ai/v2/{runpod_url}/openai/v1\"\n",
    "\n",
    "client = OpenAI(\n",
    "    api_key=os.environ[\"RUNPOD_API_KEY\"],\n",
    "    base_url=openai_api_base,\n",
    ")\n",
    "\n",
    "chat_response = client.chat.completions.create(\n",
    "    model=\"daje/meta-llama3.1-8B-qna-koalpaca-v1.1\",\n",
    "    messages=[\n",
    "        {\"role\": \"system\", \"content\": \"You are a helpful assistant.\"},\n",
    "        {\"role\": \"user\", \"content\": \"대한민국의 수도는 현재\"},\n",
    "    ]\n",
    ")\n",
    "chat_response.choices[0].message.content"
   ]
  }
 ],
 "metadata": {
  "language_info": {
   "name": "python"
  }
 },
 "nbformat": 4,
 "nbformat_minor": 2
}
