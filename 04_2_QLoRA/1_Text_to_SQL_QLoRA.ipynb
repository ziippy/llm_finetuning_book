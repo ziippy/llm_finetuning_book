{
 "cells": [
  {
   "cell_type": "code",
   "execution_count": null,
   "metadata": {},
   "outputs": [],
   "source": [
    "!pip install transformers bitsandbytes datasets sentencepiece accelerate trl peft flash-attn openai pqdm"
   ]
  },
  {
   "cell_type": "code",
   "execution_count": 1,
   "metadata": {},
   "outputs": [],
   "source": [
    "import os \n",
    "os.environ[\"CUDA_VISIBLE_DEVICES\"] = \"0\" "
   ]
  },
  {
   "cell_type": "code",
   "execution_count": 2,
   "metadata": {},
   "outputs": [],
   "source": [
    "import warnings\n",
    "warnings.filterwarnings(\"ignore\")\n",
    "\n",
    "import trl\n",
    "import torch\n",
    "import datasets\n",
    "import transformers\n",
    "\n",
    "import pandas as pd\n",
    "from random import randint\n",
    "from datasets import Dataset, load_dataset\n",
    "\n",
    "from trl import SFTTrainer, setup_chat_format\n",
    "from peft import LoraConfig, AutoPeftModelForCausalLM\n",
    "\n",
    "from transformers import (AutoTokenizer,\n",
    "                          AutoModelForCausalLM,\n",
    "                          BitsAndBytesConfig,\n",
    "                          TrainingArguments,\n",
    "                          pipeline)\n",
    "\n",
    "import os\n",
    "import json\n",
    "from openai import OpenAI"
   ]
  },
  {
   "cell_type": "code",
   "execution_count": 3,
   "metadata": {},
   "outputs": [
    {
     "name": "stdout",
     "output_type": "stream",
     "text": [
      "PyTorch version       : 2.5.1\n",
      "Transformers version  : 4.46.3\n",
      "TRL version           : 0.8.6\n",
      "CUDA available        : True\n",
      "CUDA version      : 12.4\n"
     ]
    }
   ],
   "source": [
    "print(f\"PyTorch version       : {torch.__version__}\")\n",
    "print(f\"Transformers version  : {transformers.__version__}\")\n",
    "print(f\"TRL version           : {trl.__version__}\")\n",
    "print(f\"CUDA available        : {torch.cuda.is_available()}\")\n",
    "if torch.cuda.is_available():\n",
    "    print(f\"CUDA version      : {torch.version.cuda}\")"
   ]
  },
  {
   "cell_type": "markdown",
   "metadata": {},
   "source": [
    "## 데이터셋 준비"
   ]
  },
  {
   "cell_type": "code",
   "execution_count": 4,
   "metadata": {},
   "outputs": [
    {
     "data": {
      "text/plain": [
       "DatasetDict({\n",
       "    train: Dataset({\n",
       "        features: ['instruction', 'input', 'response', 'source', 'text', 'ko_instruction'],\n",
       "        num_rows: 262208\n",
       "    })\n",
       "})"
      ]
     },
     "execution_count": 4,
     "metadata": {},
     "output_type": "execute_result"
    }
   ],
   "source": [
    "dataset = datasets.load_dataset(\"daje/kotext-to-sql-v1\")\n",
    "dataset"
   ]
  },
  {
   "cell_type": "markdown",
   "metadata": {},
   "source": [
    "'ko_instruction', 'input', 'response' 세 가지 요소의 길이를 모두 더해 'total_length' 라는 새로운 값을 계산한다.  \n",
    "이를 기준으로 난이도를 분류한다.\n",
    "\n",
    "10~100 사이: 쉬움(easy)  \n",
    "101~300 사이: 보통(moderate)  \n",
    "301~1000 사이: 어려움(difficult)"
   ]
  },
  {
   "cell_type": "code",
   "execution_count": 5,
   "metadata": {},
   "outputs": [
    {
     "name": "stdout",
     "output_type": "stream",
     "text": [
      "910 13\n"
     ]
    }
   ],
   "source": [
    "def add_length_column(dataset):\n",
    "    df = dataset.to_pandas()\n",
    "    df[\"total_length\"] = 0\n",
    "    for column_name in [\"ko_instruction\", \"input\", \"response\"]:\n",
    "        num_words = df[column_name].astype(str).str.split().apply(len)\n",
    "        df[\"total_length\"] += num_words\n",
    "\n",
    "    return df\n",
    "\n",
    "df = add_length_column(dataset[\"train\"])\n",
    "\n",
    "def filter_by_total_length(df, difficulty, number_of_samples):\n",
    "    if difficulty == \"easy\":\n",
    "        return df[df[\"total_length\"].between(10, 100)].iloc[:number_of_samples]\n",
    "    elif difficulty == \"moderate\":\n",
    "        return df[df[\"total_length\"].between(101, 300)].iloc[:number_of_samples]\n",
    "    elif difficulty == \"difficult\":\n",
    "        return df[df[\"total_length\"].between(301, 1000)].iloc[:number_of_samples]\n",
    "\n",
    "print(max(df[\"total_length\"].to_list()), min(df[\"total_length\"].to_list()))"
   ]
  },
  {
   "cell_type": "code",
   "execution_count": 6,
   "metadata": {},
   "outputs": [
    {
     "data": {
      "text/html": [
       "<div>\n",
       "<style scoped>\n",
       "    .dataframe tbody tr th:only-of-type {\n",
       "        vertical-align: middle;\n",
       "    }\n",
       "\n",
       "    .dataframe tbody tr th {\n",
       "        vertical-align: top;\n",
       "    }\n",
       "\n",
       "    .dataframe thead th {\n",
       "        text-align: right;\n",
       "    }\n",
       "</style>\n",
       "<table border=\"1\" class=\"dataframe\">\n",
       "  <thead>\n",
       "    <tr style=\"text-align: right;\">\n",
       "      <th></th>\n",
       "      <th>instruction</th>\n",
       "      <th>input</th>\n",
       "      <th>response</th>\n",
       "      <th>source</th>\n",
       "      <th>text</th>\n",
       "      <th>ko_instruction</th>\n",
       "      <th>total_length</th>\n",
       "    </tr>\n",
       "  </thead>\n",
       "  <tbody>\n",
       "    <tr>\n",
       "      <th>0</th>\n",
       "      <td>Name the home team for carlton away team</td>\n",
       "      <td>CREATE TABLE table_name_77 (\\n    home_team VA...</td>\n",
       "      <td>SELECT home_team FROM table_name_77 WHERE away...</td>\n",
       "      <td>sql_create_context</td>\n",
       "      <td>Below are sql tables schemas paired with instr...</td>\n",
       "      <td>카를턴의 원정 팀의 홈 팀 이름을 말해 주세요.</td>\n",
       "      <td>25</td>\n",
       "    </tr>\n",
       "    <tr>\n",
       "      <th>1</th>\n",
       "      <td>what will the population of Asia be when Latin...</td>\n",
       "      <td>CREATE TABLE table_22767 (\\n    \"Year\" real,\\n...</td>\n",
       "      <td>SELECT \"Asia\" FROM table_22767 WHERE \"Latin Am...</td>\n",
       "      <td>wikisql</td>\n",
       "      <td>Below are sql tables schemas paired with instr...</td>\n",
       "      <td>라틴 아메리카/카리브해 지역의 인구가 783(7.5%)가 될 때, 아시아의 인구는 ...</td>\n",
       "      <td>44</td>\n",
       "    </tr>\n",
       "  </tbody>\n",
       "</table>\n",
       "</div>"
      ],
      "text/plain": [
       "                                         instruction  \\\n",
       "0           Name the home team for carlton away team   \n",
       "1  what will the population of Asia be when Latin...   \n",
       "\n",
       "                                               input  \\\n",
       "0  CREATE TABLE table_name_77 (\\n    home_team VA...   \n",
       "1  CREATE TABLE table_22767 (\\n    \"Year\" real,\\n...   \n",
       "\n",
       "                                            response              source  \\\n",
       "0  SELECT home_team FROM table_name_77 WHERE away...  sql_create_context   \n",
       "1  SELECT \"Asia\" FROM table_22767 WHERE \"Latin Am...             wikisql   \n",
       "\n",
       "                                                text  \\\n",
       "0  Below are sql tables schemas paired with instr...   \n",
       "1  Below are sql tables schemas paired with instr...   \n",
       "\n",
       "                                      ko_instruction  total_length  \n",
       "0                         카를턴의 원정 팀의 홈 팀 이름을 말해 주세요.            25  \n",
       "1  라틴 아메리카/카리브해 지역의 인구가 783(7.5%)가 될 때, 아시아의 인구는 ...            44  "
      ]
     },
     "execution_count": 6,
     "metadata": {},
     "output_type": "execute_result"
    }
   ],
   "source": [
    "df.head(2)"
   ]
  },
  {
   "cell_type": "markdown",
   "metadata": {},
   "source": [
    "### 샘플링\n",
    "\n",
    "1000 개씩만 샘플링 하자"
   ]
  },
  {
   "cell_type": "code",
   "execution_count": 7,
   "metadata": {},
   "outputs": [
    {
     "data": {
      "text/plain": [
       "((1000, 7), (1000, 7), (1000, 7), (3000, 8))"
      ]
     },
     "execution_count": 7,
     "metadata": {},
     "output_type": "execute_result"
    }
   ],
   "source": [
    "easy = filter_by_total_length(df, \"easy\", 1000)\n",
    "medium = filter_by_total_length(df, \"moderate\", 1000)\n",
    "hard = filter_by_total_length(df, \"difficult\", 1000)\n",
    "\n",
    "dataset = pd.concat([easy, medium, hard])\n",
    "\n",
    "dataset = dataset.sample(frac=1)\n",
    "dataset = Dataset.from_pandas(dataset)\n",
    "easy.shape, medium.shape, hard.shape, dataset.shape"
   ]
  },
  {
   "cell_type": "code",
   "execution_count": null,
   "metadata": {},
   "outputs": [],
   "source": [
    "# pandas 데이터 프레임을 허깅페이스의 Dataset 형식으로 변환 (전체 사용 시)\n",
    "dataset = Dataset.from_pandas(df)"
   ]
  },
  {
   "cell_type": "code",
   "execution_count": 8,
   "metadata": {},
   "outputs": [
    {
     "name": "stderr",
     "output_type": "stream",
     "text": [
      "Map: 100%|██████████| 3000/3000 [00:00<00:00, 12520.78 examples/s]\n",
      "Creating json from Arrow format: 100%|██████████| 3/3 [00:00<00:00, 30.30ba/s]\n",
      "Creating json from Arrow format: 100%|██████████| 1/1 [00:00<00:00, 170.75ba/s]"
     ]
    },
    {
     "name": "stdout",
     "output_type": "stream",
     "text": [
      "[{'content': 'You are a helpful programmer assistant that excels at SQL.', 'role': 'system'}, {'content': 'Task: 지난 한 달 동안 가장 많은 찬성을 받은 질문들.\\nSQL table: CREATE TABLE ReviewTaskResultTypes (\\n    Id number,\\n    Name text,\\n    Description text\\n)\\n\\nCREATE TABLE PendingFlags (\\n    Id number,\\n    FlagTypeId number,\\n    PostId number,\\n    CreationDate time,\\n    CloseReasonTypeId number,\\n    CloseAsOffTopicReasonTypeId number,\\n    DuplicateOfQuestionId number,\\n    BelongsOnBaseHostAddress text\\n)\\n\\nCREATE TABLE PostLinks (\\n    Id number,\\n    CreationDate time,\\n    PostId number,\\n    RelatedPostId number,\\n    LinkTypeId number\\n)\\n\\nCREATE TABLE PostNotices (\\n    Id number,\\n    PostId number,\\n    PostNoticeTypeId number,\\n    CreationDate time,\\n    DeletionDate time,\\n    ExpiryDate time,\\n    Body text,\\n    OwnerUserId number,\\n    DeletionUserId number\\n)\\n\\nCREATE TABLE SuggestedEdits (\\n    Id number,\\n    PostId number,\\n    CreationDate time,\\n    ApprovalDate time,\\n    RejectionDate time,\\n    OwnerUserId number,\\n    Comment text,\\n    Text text,\\n    Title text,\\n    Tags text,\\n    RevisionGUID other\\n)\\n\\nCREATE TABLE Badges (\\n    Id number,\\n    UserId number,\\n    Name text,\\n    Date time,\\n    Class number,\\n    TagBased boolean\\n)\\n\\nCREATE TABLE PostTypes (\\n    Id number,\\n    Name text\\n)\\n\\nCREATE TABLE PostsWithDeleted (\\n    Id number,\\n    PostTypeId number,\\n    AcceptedAnswerId number,\\n    ParentId number,\\n    CreationDate time,\\n    DeletionDate time,\\n    Score number,\\n    ViewCount number,\\n    Body text,\\n    OwnerUserId number,\\n    OwnerDisplayName text,\\n    LastEditorUserId number,\\n    LastEditorDisplayName text,\\n    LastEditDate time,\\n    LastActivityDate time,\\n    Title text,\\n    Tags text,\\n    AnswerCount number,\\n    CommentCount number,\\n    FavoriteCount number,\\n    ClosedDate time,\\n    CommunityOwnedDate time,\\n    ContentLicense text\\n)\\n\\nCREATE TABLE ReviewTasks (\\n    Id number,\\n    ReviewTaskTypeId number,\\n    CreationDate time,\\n    DeletionDate time,\\n    ReviewTaskStateId number,\\n    PostId number,\\n    SuggestedEditId number,\\n    CompletedByReviewTaskId number\\n)\\n\\nCREATE TABLE PostNoticeTypes (\\n    Id number,\\n    ClassId number,\\n    Name text,\\n    Body text,\\n    IsHidden boolean,\\n    Predefined boolean,\\n    PostNoticeDurationId number\\n)\\n\\nCREATE TABLE PostFeedback (\\n    Id number,\\n    PostId number,\\n    IsAnonymous boolean,\\n    VoteTypeId number,\\n    CreationDate time\\n)\\n\\nCREATE TABLE ReviewTaskTypes (\\n    Id number,\\n    Name text,\\n    Description text\\n)\\n\\nCREATE TABLE ReviewTaskResults (\\n    Id number,\\n    ReviewTaskId number,\\n    ReviewTaskResultTypeId number,\\n    CreationDate time,\\n    RejectionReasonId number,\\n    Comment text\\n)\\n\\nCREATE TABLE FlagTypes (\\n    Id number,\\n    Name text,\\n    Description text\\n)\\n\\nCREATE TABLE VoteTypes (\\n    Id number,\\n    Name text\\n)\\n\\nCREATE TABLE PostHistory (\\n    Id number,\\n    PostHistoryTypeId number,\\n    PostId number,\\n    RevisionGUID other,\\n    CreationDate time,\\n    UserId number,\\n    UserDisplayName text,\\n    Comment text,\\n    Text text,\\n    ContentLicense text\\n)\\n\\nCREATE TABLE Posts (\\n    Id number,\\n    PostTypeId number,\\n    AcceptedAnswerId number,\\n    ParentId number,\\n    CreationDate time,\\n    DeletionDate time,\\n    Score number,\\n    ViewCount number,\\n    Body text,\\n    OwnerUserId number,\\n    OwnerDisplayName text,\\n    LastEditorUserId number,\\n    LastEditorDisplayName text,\\n    LastEditDate time,\\n    LastActivityDate time,\\n    Title text,\\n    Tags text,\\n    AnswerCount number,\\n    CommentCount number,\\n    FavoriteCount number,\\n    ClosedDate time,\\n    CommunityOwnedDate time,\\n    ContentLicense text\\n)\\n\\nCREATE TABLE CloseAsOffTopicReasonTypes (\\n    Id number,\\n    IsUniversal boolean,\\n    InputTitle text,\\n    MarkdownInputGuidance text,\\n    MarkdownPostOwnerGuidance text,\\n    MarkdownPrivilegedUserGuidance text,\\n    MarkdownConcensusDescription text,\\n    CreationDate time,\\n    CreationModeratorId number,\\n    ApprovalDate time,\\n    ApprovalModeratorId number,\\n    DeactivationDate time,\\n    DeactivationModeratorId number\\n)\\n\\nCREATE TABLE ReviewTaskStates (\\n    Id number,\\n    Name text,\\n    Description text\\n)\\n\\nCREATE TABLE Votes (\\n    Id number,\\n    PostId number,\\n    VoteTypeId number,\\n    UserId number,\\n    CreationDate time,\\n    BountyAmount number\\n)\\n\\nCREATE TABLE TagSynonyms (\\n    Id number,\\n    SourceTagName text,\\n    TargetTagName text,\\n    CreationDate time,\\n    OwnerUserId number,\\n    AutoRenameCount number,\\n    LastAutoRename time,\\n    Score number,\\n    ApprovedByUserId number,\\n    ApprovalDate time\\n)\\n\\nCREATE TABLE Users (\\n    Id number,\\n    Reputation number,\\n    CreationDate time,\\n    DisplayName text,\\n    LastAccessDate time,\\n    WebsiteUrl text,\\n    Location text,\\n    AboutMe text,\\n    Views number,\\n    UpVotes number,\\n    DownVotes number,\\n    ProfileImageUrl text,\\n    EmailHash text,\\n    AccountId number\\n)\\n\\nCREATE TABLE Comments (\\n    Id number,\\n    PostId number,\\n    Score number,\\n    Text text,\\n    CreationDate time,\\n    UserDisplayName text,\\n    UserId number,\\n    ContentLicense text\\n)\\n\\nCREATE TABLE PostTags (\\n    PostId number,\\n    TagId number\\n)\\n\\nCREATE TABLE Tags (\\n    Id number,\\n    TagName text,\\n    Count number,\\n    ExcerptPostId number,\\n    WikiPostId number\\n)\\n\\nCREATE TABLE SuggestedEditVotes (\\n    Id number,\\n    SuggestedEditId number,\\n    UserId number,\\n    VoteTypeId number,\\n    CreationDate time,\\n    TargetUserId number,\\n    TargetRepChange number\\n)\\n\\nCREATE TABLE ReviewRejectionReasons (\\n    Id number,\\n    Name text,\\n    Description text,\\n    PostTypeId number\\n)\\n\\nCREATE TABLE CloseReasonTypes (\\n    Id number,\\n    Name text,\\n    Description text\\n)\\n\\nCREATE TABLE PostHistoryTypes (\\n    Id number,\\n    Name text\\n)\\nSQL query: ', 'role': 'user'}, {'content': 'SELECT TOP(30) AS CreationDate, Id AS \"post_link\", Score, ViewCount FROM Posts WHERE CreationDate >= (DATEADD(MONTH, -1, GETDATE())) AND PostTypeId = 1 ORDER BY Posts.Score DESC<|end_of_text|>', 'role': 'assistant'}]\n"
     ]
    },
    {
     "name": "stderr",
     "output_type": "stream",
     "text": [
      "\n"
     ]
    }
   ],
   "source": [
    "# trl docs에 보면 이와 같은 방식으로 SFT Trainer용 데이터를 만들 수 있습니다.\n",
    "# docs에서는 eos_token을 별도로 추가하라는 안내는 없지만, 저자는 습관적으로 eos_token을 붙혀줍니다.\n",
    "def get_chat_format(element):\n",
    "    system_prompt = \"You are a helpful programmer assistant that excels at SQL.\"\n",
    "    user_prompt = \"Task: {ko_instruction}\\nSQL table: {input}\\nSQL query: \"\n",
    "    return {\n",
    "        \"messages\": [\n",
    "            {\"role\": \"system\", \"content\": system_prompt},\n",
    "            {\"role\": \"user\", \"content\": user_prompt.format_map(element)},\n",
    "            {\"role\": \"assistant\", \"content\": element[\"response\"]+tokenizer.eos_token},\n",
    "        ]\n",
    "    }\n",
    "\n",
    "# 데이터 전처리를 위해 먼저 도크나이저를 불러옵니다. \n",
    "# 자세한 설명은 ###4.2.4 섹션에서 설명합니다. \n",
    "tokenizer = AutoTokenizer.from_pretrained(\"allganize/Llama-3-Alpha-Ko-8B-Instruct\")   \n",
    "# 시퀀스의 길이를 맞추기 위해 추가되는 특별한 토큰으로, 일반적으로 pad_token_id에 해당합니다. \n",
    "# 패딩 방향을 설정함으로써 모델이 일관된 입력 형식을 받을 수 있도록 합니다.\n",
    "tokenizer.padding_side = 'right'                      \n",
    "\n",
    "# 데이터를 일괄적으로 대화형식으로 변경합니다.\n",
    "dataset = dataset.map(get_chat_format, remove_columns=dataset.features, batched=False)\n",
    "\n",
    "# train과 test 데이터를 0.9와 0.1로 분할합니다.\n",
    "dataset = dataset.train_test_split(test_size=0.05)\n",
    "\n",
    "# json으로 저장합니다.\n",
    "dataset[\"train\"].to_json(\"train_dataset.json\", orient=\"records\")\n",
    "dataset[\"test\"].to_json(\"test_dataset.json\", orient=\"records\")\n",
    "\n",
    "# 정상적으로 변환되었는지 확인합니다.\n",
    "print(dataset[\"train\"][123][\"messages\"])"
   ]
  },
  {
   "cell_type": "code",
   "execution_count": 9,
   "metadata": {},
   "outputs": [
    {
     "data": {
      "text/plain": [
       "(Dataset({\n",
       "     features: ['messages'],\n",
       "     num_rows: 2850\n",
       " }),\n",
       " Dataset({\n",
       "     features: ['messages'],\n",
       "     num_rows: 150\n",
       " }))"
      ]
     },
     "execution_count": 9,
     "metadata": {},
     "output_type": "execute_result"
    }
   ],
   "source": [
    "# 정성적으로 변환되었는지 확인합니다.\n",
    "dataset[\"train\"], dataset[\"test\"]"
   ]
  },
  {
   "cell_type": "code",
   "execution_count": 10,
   "metadata": {},
   "outputs": [
    {
     "data": {
      "text/plain": [
       "{'messages': [{'content': 'You are a helpful programmer assistant that excels at SQL.',\n",
       "   'role': 'system'},\n",
       "  {'content': 'Task: 각 제품 이름에 대해 가격이 1000 이상이거나 500 이하인 제품 수를 바 차트로 표시하세요.\\nSQL table: CREATE TABLE Products (\\n    product_id INTEGER,\\n    product_type_code VARCHAR(15),\\n    product_name VARCHAR(80),\\n    product_price DOUBLE\\n)\\n\\nCREATE TABLE Customer_Address_History (\\n    customer_id INTEGER,\\n    address_id INTEGER,\\n    date_from DATETIME,\\n    date_to DATETIME\\n)\\n\\nCREATE TABLE Customers (\\n    customer_id INTEGER,\\n    payment_method_code VARCHAR(15),\\n    customer_number VARCHAR(20),\\n    customer_name VARCHAR(80),\\n    customer_address VARCHAR(255),\\n    customer_phone VARCHAR(80),\\n    customer_email VARCHAR(80)\\n)\\n\\nCREATE TABLE Addresses (\\n    address_id INTEGER,\\n    line_1_number_building VARCHAR(80),\\n    city VARCHAR(50),\\n    zip_postcode VARCHAR(20),\\n    state_province_county VARCHAR(50),\\n    country VARCHAR(50)\\n)\\n\\nCREATE TABLE Customer_Orders (\\n    order_id INTEGER,\\n    customer_id INTEGER,\\n    order_date DATETIME,\\n    order_status_code VARCHAR(15)\\n)\\n\\nCREATE TABLE Contacts (\\n    contact_id INTEGER,\\n    customer_id INTEGER,\\n    gender VARCHAR(1),\\n    first_name VARCHAR(80),\\n    last_name VARCHAR(50),\\n    contact_phone VARCHAR(80)\\n)\\n\\nCREATE TABLE Order_Items (\\n    order_item_id INTEGER,\\n    order_id INTEGER,\\n    product_id INTEGER,\\n    order_quantity VARCHAR(80)\\n)\\nSQL query: ',\n",
       "   'role': 'user'},\n",
       "  {'content': 'SELECT product_name, COUNT(product_name) FROM Products WHERE product_price > 1000 OR product_price < 500 GROUP BY product_name<|end_of_text|>',\n",
       "   'role': 'assistant'}]}"
      ]
     },
     "execution_count": 10,
     "metadata": {},
     "output_type": "execute_result"
    }
   ],
   "source": [
    "# 데이터가 정상적으로 채팅 포맷으로 변경되었는지 확인합니다.\n",
    "dataset[\"train\"][0]"
   ]
  },
  {
   "cell_type": "markdown",
   "metadata": {},
   "source": [
    "### 저장된 train 데이터를 불러오기"
   ]
  },
  {
   "cell_type": "code",
   "execution_count": 11,
   "metadata": {},
   "outputs": [
    {
     "name": "stderr",
     "output_type": "stream",
     "text": [
      "Generating train split: 2850 examples [00:00, 98550.38 examples/s]\n"
     ]
    }
   ],
   "source": [
    "# 저장된 train 데이터를 불러옵니다.\n",
    "dataset = load_dataset(\"json\", data_files=\"train_dataset.json\", split=\"train\")"
   ]
  },
  {
   "cell_type": "markdown",
   "metadata": {},
   "source": [
    "## 양자화 파라미터 설정"
   ]
  },
  {
   "cell_type": "code",
   "execution_count": 12,
   "metadata": {},
   "outputs": [
    {
     "name": "stderr",
     "output_type": "stream",
     "text": [
      "Loading checkpoint shards: 100%|██████████| 4/4 [00:06<00:00,  1.52s/it]\n",
      "The new embeddings will be initialized from a multivariate normal distribution that has old embeddings' mean and covariance. As described in this article: https://nlp.stanford.edu/~johnhew/vocab-expansion.html. To disable this, use `mean_resizing=False`\n",
      "The new lm_head weights will be initialized from a multivariate normal distribution that has old embeddings' mean and covariance. As described in this article: https://nlp.stanford.edu/~johnhew/vocab-expansion.html. To disable this, use `mean_resizing=False`\n"
     ]
    }
   ],
   "source": [
    "# Quantization config 세팅 -> 모델이 사용하는 vram을 최소화하기\n",
    "bnb_config = BitsAndBytesConfig(\n",
    "    load_in_4bit=True,\n",
    "    # double quantization으로 양자화 오류를 줄입니다.\n",
    "    bnb_4bit_use_double_quant=True, \n",
    "    # 다양한 양자화 종류 중 nf4를 선택\n",
    "    bnb_4bit_quant_type=\"nf4\", \n",
    "    # llama는 16비트 부동 소수를 사용해 학습됐습니다.\n",
    "    bnb_4bit_compute_dtype=torch.bfloat16 \n",
    ")\n",
    "\n",
    "# 이번 프로젝트에서 사용할 모델로 LLama2를 Base Model로 사용하여 코드를 전용으로 만든 모델\n",
    "model_id = \"allganize/Llama-3-Alpha-Ko-8B-Instruct\"\n",
    "\n",
    "# 모델과 토크나이저 불러오기\n",
    "model = AutoModelForCausalLM.from_pretrained(\n",
    "    # 앞서 정의한 모델을 불러옵니다.\n",
    "    model_id,                                     \n",
    "    # 모델을 사용할 디바이스를 자동으로 설정합니다.\n",
    "    device_map=\"auto\",                            \n",
    "    # 더 빠르고 메모리 효율적인 어텐션 구현 방식입니다.\n",
    "    attn_implementation=\"flash_attention_2\",       \n",
    "    torch_dtype=torch.bfloat16,\n",
    "    # 양자화 설정을 적용합니다.\n",
    "    quantization_config=bnb_config                  \n",
    ")\n",
    "# 토크나이저 불러옵니다.\n",
    "tokenizer = AutoTokenizer.from_pretrained(model_id)   \n",
    "# 시퀀스의 길이를 맞추기 위해 추가되는 특별한 토큰으로, 일반적으로 pad_token_id에 해당합니다. \n",
    "# 패딩 방향을 설정함으로써 모델이 일관된 입력 형식을 받을 수 있도록 합니다.\n",
    "tokenizer.padding_side = 'right'                      \n",
    "\n",
    "# setup_chat_format 함수를 사용하는 주요 이유는 모델과 토크나이저가 대화형 AI 시스템에서 요구하는 형식에 맞게 추가 설정을 적용하기 위함입니다. \n",
    "# 이 함수는 특별 토큰 추가, 입력 형식 포맷팅, 토큰 임베딩 조정 등의 작업을 수행하여 모델이 대화형 응답을 보다 효과적으로 생성할 수 있도록 준비합니다.\n",
    "model, tokenizer = setup_chat_format(model, tokenizer) "
   ]
  },
  {
   "cell_type": "markdown",
   "metadata": {},
   "source": [
    "## 파라미터 설정"
   ]
  },
  {
   "cell_type": "code",
   "execution_count": 13,
   "metadata": {},
   "outputs": [
    {
     "name": "stderr",
     "output_type": "stream",
     "text": [
      "Generating train split: 197 examples [00:00, 214.43 examples/s]\n",
      "WARNING:accelerate.utils.other:Detected kernel version 5.4.0, which is below the recommended minimum of 5.5.0; this can cause the process to hang. It is recommended to upgrade the kernel to the minimum version or higher.\n"
     ]
    }
   ],
   "source": [
    "peft_config = LoraConfig(\n",
    "        lora_alpha=128,                            \n",
    "        lora_dropout=0.05,                         # Lora 학습 때 사용할 dropout 확률을 지정합니다. 드롭아웃 확률은 과적합 방지를 위해 학습 중 무작위로 일부 뉴런을 비활성화하는 비율을 지정합니다.\n",
    "        r=256,                                     # Lora의 저차원 공간의 랭크를 지정합니다. 랭크가 높을수록 모델의 표현력이 증가하지만, 계산 비용도 증가합니다.\n",
    "        bias=\"none\",                               # Lora 적용 시 바이어스를 사용할지 여부를 설정합니다. \"none\"으로 설정하면 바이어스를 사용하지 않습니다.\n",
    "        target_modules=[\"q_proj\", \"o_proj\",        # Lora를 적용할 모델의 모듈 리스트입니다.\n",
    "                        \"k_proj\", \"v_proj\"\n",
    "                        \"up_proj\", \"down_proj\",\n",
    "                        \"gate_proj\",\n",
    "                        ],\n",
    "        task_type=\"CAUSAL_LM\",                     # 미세 조정 작업 유형을 CAUSAL_LM으로 지정하여 언어 모델링 작업을 수행합니다.\n",
    ")\n",
    "\n",
    "\n",
    "args = TrainingArguments(\n",
    "    output_dir=\"code-llama-8b-text-to-sql\", # 모델 저장 및 허브 업로드를 위한 디렉토리 지정 합니다.\n",
    "    num_train_epochs=1,                   # number of training epochs\n",
    "    # max_steps=100,                          # 100스텝 동안 훈련 수행합니다.\n",
    "    per_device_train_batch_size=1,          # 배치 사이즈 설정 합니다.\n",
    "    gradient_accumulation_steps=2,          # 4스텝마다 역전파 및 가중치 업데이트합니다.\n",
    "    gradient_checkpointing=True,            # 메모리 절약을 위해 그래디언트 체크포인팅 사용합니다.\n",
    "    optim=\"adamw_torch_fused\",              # 메모리 효율화할 수 있는 fused AdamW 옵티마이저 사용합니다.\n",
    "    logging_steps=10,                       # 10스텝마다 로그 기록합니다.\n",
    "    save_strategy=\"epoch\",                  # 매 에폭마다 체크포인트 저장합니다.\n",
    "    learning_rate=2e-4,                     # 학습률 2e-4로 설정 (QLoRA 논문 기반)합니다.\n",
    "    bf16=True,                              # 정밀도 설정으로 학습 속도 향상합니다.\n",
    "    tf32=True,\n",
    "    max_grad_norm=0.3,                      # 그래디언트 클리핑 값 0.3으로 설정합니다.\n",
    "    warmup_ratio=0.03,                      # 워밍업 비율 0.03으로 설정 (QLoRA 논문 기반)합니다.\n",
    "    lr_scheduler_type=\"constant\",           # 일정한 학습률 스케줄러 사용합니다.\n",
    "    # push_to_hub=True,                       # 훈련된 모델을 Hugging Face Hub에 업로드합니다.\n",
    "    # report_to=\"wandb\",                      # wandb로 매트릭 관찰합니다.\n",
    ")\n",
    "\n",
    "\n",
    "max_seq_length = 7994 # 최대 시퀀스 길이 설정\n",
    "\n",
    "trainer = SFTTrainer(\n",
    "    model=model,\n",
    "    args=args,\n",
    "    train_dataset=dataset,\n",
    "    peft_config=peft_config,\n",
    "    max_seq_length=max_seq_length,\n",
    "    tokenizer=tokenizer,\n",
    "    packing=True,                     # 패킹은 여러 시퀀스를 하나의 고정된 크기 내에서 묶어 처리하는 방법입니다. 이를 통해 효율적인 배치 처리가 가능합니다.\n",
    "    dataset_kwargs={\n",
    "        \"add_special_tokens\": False,  # 템플릿에 특별 토큰을 추가하지 않습니다. 이는 이미 템플릿에 특별 토큰이 포함되어 있음을 의미할 수 있습니다.\n",
    "        \"append_concat_token\": False, # 추가 구분자 토큰을 추가하지 않습니다. 데이터셋의 항목들이 이미 적절히 구분되어 있음을 의미합니다.\n",
    "    }\n",
    ")"
   ]
  },
  {
   "cell_type": "code",
   "execution_count": 14,
   "metadata": {},
   "outputs": [
    {
     "name": "stderr",
     "output_type": "stream",
     "text": [
      "`use_cache=True` is incompatible with gradient checkpointing. Setting `use_cache=False`.\n",
      "The input hidden states seems to be silently casted in float32, this might be related to the fact you have upcasted embedding or layer norm layers in float32. We will cast back the input in torch.bfloat16.\n"
     ]
    },
    {
     "data": {
      "text/html": [
       "\n",
       "    <div>\n",
       "      \n",
       "      <progress value='83' max='98' style='width:300px; height:20px; vertical-align: middle;'></progress>\n",
       "      [83/98 10:35 < 01:57, 0.13 it/s, Epoch 0.83/1]\n",
       "    </div>\n",
       "    <table border=\"1\" class=\"dataframe\">\n",
       "  <thead>\n",
       " <tr style=\"text-align: left;\">\n",
       "      <th>Step</th>\n",
       "      <th>Training Loss</th>\n",
       "    </tr>\n",
       "  </thead>\n",
       "  <tbody>\n",
       "    <tr>\n",
       "      <td>10</td>\n",
       "      <td>0.745300</td>\n",
       "    </tr>\n",
       "    <tr>\n",
       "      <td>20</td>\n",
       "      <td>0.480300</td>\n",
       "    </tr>\n",
       "    <tr>\n",
       "      <td>30</td>\n",
       "      <td>0.421800</td>\n",
       "    </tr>\n",
       "    <tr>\n",
       "      <td>40</td>\n",
       "      <td>0.374100</td>\n",
       "    </tr>\n",
       "    <tr>\n",
       "      <td>50</td>\n",
       "      <td>0.381800</td>\n",
       "    </tr>\n",
       "    <tr>\n",
       "      <td>60</td>\n",
       "      <td>0.368100</td>\n",
       "    </tr>\n",
       "    <tr>\n",
       "      <td>70</td>\n",
       "      <td>0.379900</td>\n",
       "    </tr>\n",
       "    <tr>\n",
       "      <td>80</td>\n",
       "      <td>0.356400</td>\n",
       "    </tr>\n",
       "  </tbody>\n",
       "</table><p>"
      ],
      "text/plain": [
       "<IPython.core.display.HTML object>"
      ]
     },
     "metadata": {},
     "output_type": "display_data"
    },
    {
     "data": {
      "text/plain": [
       "TrainOutput(global_step=98, training_loss=0.4210939285706501, metrics={'train_runtime': 777.4861, 'train_samples_per_second': 0.253, 'train_steps_per_second': 0.126, 'total_flos': 7.504852111884288e+16, 'train_loss': 0.4210939285706501, 'epoch': 0.9949238578680203})"
      ]
     },
     "execution_count": 14,
     "metadata": {},
     "output_type": "execute_result"
    }
   ],
   "source": [
    "# trainer를 학습합니다.\n",
    "trainer.train()"
   ]
  },
  {
   "cell_type": "code",
   "execution_count": 15,
   "metadata": {},
   "outputs": [
    {
     "name": "stderr",
     "output_type": "stream",
     "text": [
      "model-00001-of-00002.safetensors:   0%|          | 0.00/5.00G [00:00<?, ?B/s]\n",
      "model-00002-of-00002.safetensors: 100%|██████████| 1.66G/1.66G [01:11<00:00, 23.1MB/s]\n",
      "model-00001-of-00002.safetensors: 100%|██████████| 5.00G/5.00G [03:03<00:00, 27.2MB/s]\n",
      "\n",
      "Upload 2 LFS files: 100%|██████████| 2/2 [03:03<00:00, 91.98s/it] \n",
      "tokenizer.json: 100%|██████████| 17.2M/17.2M [00:03<00:00, 5.60MB/s]\n"
     ]
    },
    {
     "data": {
      "text/plain": [
       "CommitInfo(commit_url='https://huggingface.co/ziippy/code-llama3-8B-text-to-sql-ver0.1/commit/59762dbc0d4a5c0030b7f361562379e6b17e79db', commit_message='Upload tokenizer', commit_description='', oid='59762dbc0d4a5c0030b7f361562379e6b17e79db', pr_url=None, repo_url=RepoUrl('https://huggingface.co/ziippy/code-llama3-8B-text-to-sql-ver0.1', endpoint='https://huggingface.co', repo_type='model', repo_id='ziippy/code-llama3-8B-text-to-sql-ver0.1'), pr_revision=None, pr_num=None)"
      ]
     },
     "execution_count": 15,
     "metadata": {},
     "output_type": "execute_result"
    }
   ],
   "source": [
    "model.push_to_hub(\"ziippy/code-llama3-8B-text-to-sql-ver0.1\")\n",
    "tokenizer.push_to_hub(\"ziippy/code-llama3-8B-text-to-sql-ver0.1\")"
   ]
  },
  {
   "cell_type": "code",
   "execution_count": 16,
   "metadata": {},
   "outputs": [],
   "source": [
    "# 메모리 초기화\n",
    "del model\n",
    "del trainer\n",
    "torch.cuda.empty_cache()"
   ]
  },
  {
   "cell_type": "markdown",
   "metadata": {},
   "source": [
    "## 학습한 모델 테스트"
   ]
  },
  {
   "cell_type": "code",
   "execution_count": 21,
   "metadata": {},
   "outputs": [
    {
     "name": "stderr",
     "output_type": "stream",
     "text": [
      "Loading checkpoint shards: 100%|██████████| 4/4 [00:05<00:00,  1.49s/it]\n",
      "The model 'PeftModelForCausalLM' is not supported for text-generation. Supported models are ['BartForCausalLM', 'BertLMHeadModel', 'BertGenerationDecoder', 'BigBirdForCausalLM', 'BigBirdPegasusForCausalLM', 'BioGptForCausalLM', 'BlenderbotForCausalLM', 'BlenderbotSmallForCausalLM', 'BloomForCausalLM', 'CamembertForCausalLM', 'LlamaForCausalLM', 'CodeGenForCausalLM', 'CohereForCausalLM', 'CpmAntForCausalLM', 'CTRLLMHeadModel', 'Data2VecTextForCausalLM', 'DbrxForCausalLM', 'ElectraForCausalLM', 'ErnieForCausalLM', 'FalconForCausalLM', 'FalconMambaForCausalLM', 'FuyuForCausalLM', 'GemmaForCausalLM', 'Gemma2ForCausalLM', 'GitForCausalLM', 'GlmForCausalLM', 'GPT2LMHeadModel', 'GPT2LMHeadModel', 'GPTBigCodeForCausalLM', 'GPTNeoForCausalLM', 'GPTNeoXForCausalLM', 'GPTNeoXJapaneseForCausalLM', 'GPTJForCausalLM', 'GraniteForCausalLM', 'GraniteMoeForCausalLM', 'JambaForCausalLM', 'JetMoeForCausalLM', 'LlamaForCausalLM', 'MambaForCausalLM', 'Mamba2ForCausalLM', 'MarianForCausalLM', 'MBartForCausalLM', 'MegaForCausalLM', 'MegatronBertForCausalLM', 'MistralForCausalLM', 'MixtralForCausalLM', 'MllamaForCausalLM', 'MoshiForCausalLM', 'MptForCausalLM', 'MusicgenForCausalLM', 'MusicgenMelodyForCausalLM', 'MvpForCausalLM', 'NemotronForCausalLM', 'OlmoForCausalLM', 'OlmoeForCausalLM', 'OpenLlamaForCausalLM', 'OpenAIGPTLMHeadModel', 'OPTForCausalLM', 'PegasusForCausalLM', 'PersimmonForCausalLM', 'PhiForCausalLM', 'Phi3ForCausalLM', 'PhimoeForCausalLM', 'PLBartForCausalLM', 'ProphetNetForCausalLM', 'QDQBertLMHeadModel', 'Qwen2ForCausalLM', 'Qwen2MoeForCausalLM', 'RecurrentGemmaForCausalLM', 'ReformerModelWithLMHead', 'RemBertForCausalLM', 'RobertaForCausalLM', 'RobertaPreLayerNormForCausalLM', 'RoCBertForCausalLM', 'RoFormerForCausalLM', 'RwkvForCausalLM', 'Speech2Text2ForCausalLM', 'StableLmForCausalLM', 'Starcoder2ForCausalLM', 'TransfoXLLMHeadModel', 'TrOCRForCausalLM', 'WhisperForCausalLM', 'XGLMForCausalLM', 'XLMWithLMHeadModel', 'XLMProphetNetForCausalLM', 'XLMRobertaForCausalLM', 'XLMRobertaXLForCausalLM', 'XLNetLMHeadModel', 'XmodForCausalLM', 'ZambaForCausalLM'].\n"
     ]
    }
   ],
   "source": [
    "# 학습한 모델을 경로를 지정합니다.\n",
    "peft_model_id = \"./code-llama-8b-text-to-sql/checkpoint-98/\"\n",
    "\n",
    "# PEFT 어댑터를 통해 사전 학습된 모델을 로드합니다.\n",
    "model = AutoPeftModelForCausalLM.from_pretrained(\n",
    "  peft_model_id,\n",
    "  device_map=\"auto\",\n",
    "  torch_dtype=torch.bfloat16\n",
    ")\n",
    "\n",
    "# 토크나이저 로드합니다.\n",
    "tokenizer = AutoTokenizer.from_pretrained(peft_model_id)\n",
    "\n",
    "# 생성을 조금 더 효율적으로 하기 위해 파이프라인을 불러옵니다.\n",
    "pipe = pipeline(\"text-generation\", model=model, tokenizer=tokenizer, device_map=\"auto\")"
   ]
  },
  {
   "cell_type": "code",
   "execution_count": 22,
   "metadata": {},
   "outputs": [
    {
     "name": "stderr",
     "output_type": "stream",
     "text": [
      "Generating train split: 150 examples [00:00, 33663.95 examples/s]\n"
     ]
    },
    {
     "name": "stdout",
     "output_type": "stream",
     "text": [
      "Query:\n",
      "Task: 2102년에 이미 두 번 이상 식도 내시경을 받은 환자의 수를 세십시오.\n",
      "SQL table: CREATE TABLE procedures_icd (\n",
      "    row_id number,\n",
      "    subject_id number,\n",
      "    hadm_id number,\n",
      "    icd9_code text,\n",
      "    charttime time\n",
      ")\n",
      "\n",
      "CREATE TABLE diagnoses_icd (\n",
      "    row_id number,\n",
      "    subject_id number,\n",
      "    hadm_id number,\n",
      "    icd9_code text,\n",
      "    charttime time\n",
      ")\n",
      "\n",
      "CREATE TABLE labevents (\n",
      "    row_id number,\n",
      "    subject_id number,\n",
      "    hadm_id number,\n",
      "    itemid number,\n",
      "    charttime time,\n",
      "    valuenum number,\n",
      "    valueuom text\n",
      ")\n",
      "\n",
      "CREATE TABLE microbiologyevents (\n",
      "    row_id number,\n",
      "    subject_id number,\n",
      "    hadm_id number,\n",
      "    charttime time,\n",
      "    spec_type_desc text,\n",
      "    org_name text\n",
      ")\n",
      "\n",
      "CREATE TABLE d_items (\n",
      "    row_id number,\n",
      "    itemid number,\n",
      "    label text,\n",
      "    linksto text\n",
      ")\n",
      "\n",
      "CREATE TABLE icustays (\n",
      "    row_id number,\n",
      "    subject_id number,\n",
      "    hadm_id number,\n",
      "    icustay_id number,\n",
      "    first_careunit text,\n",
      "    last_careunit text,\n",
      "    first_wardid number,\n",
      "    last_wardid number,\n",
      "    intime time,\n",
      "    outtime time\n",
      ")\n",
      "\n",
      "CREATE TABLE outputevents (\n",
      "    row_id number,\n",
      "    subject_id number,\n",
      "    hadm_id number,\n",
      "    icustay_id number,\n",
      "    charttime time,\n",
      "    itemid number,\n",
      "    value number\n",
      ")\n",
      "\n",
      "CREATE TABLE patients (\n",
      "    row_id number,\n",
      "    subject_id number,\n",
      "    gender text,\n",
      "    dob time,\n",
      "    dod time\n",
      ")\n",
      "\n",
      "CREATE TABLE d_icd_diagnoses (\n",
      "    row_id number,\n",
      "    icd9_code text,\n",
      "    short_title text,\n",
      "    long_title text\n",
      ")\n",
      "\n",
      "CREATE TABLE d_icd_procedures (\n",
      "    row_id number,\n",
      "    icd9_code text,\n",
      "    short_title text,\n",
      "    long_title text\n",
      ")\n",
      "\n",
      "CREATE TABLE admissions (\n",
      "    row_id number,\n",
      "    subject_id number,\n",
      "    hadm_id number,\n",
      "    admittime time,\n",
      "    dischtime time,\n",
      "    admission_type text,\n",
      "    admission_location text,\n",
      "    discharge_location text,\n",
      "    insurance text,\n",
      "    language text,\n",
      "    marital_status text,\n",
      "    ethnicity text,\n",
      "    age number\n",
      ")\n",
      "\n",
      "CREATE TABLE prescriptions (\n",
      "    row_id number,\n",
      "    subject_id number,\n",
      "    hadm_id number,\n",
      "    startdate time,\n",
      "    enddate time,\n",
      "    drug text,\n",
      "    dose_val_rx text,\n",
      "    dose_unit_rx text,\n",
      "    route text\n",
      ")\n",
      "\n",
      "CREATE TABLE chartevents (\n",
      "    row_id number,\n",
      "    subject_id number,\n",
      "    hadm_id number,\n",
      "    icustay_id number,\n",
      "    itemid number,\n",
      "    charttime time,\n",
      "    valuenum number,\n",
      "    valueuom text\n",
      ")\n",
      "\n",
      "CREATE TABLE d_labitems (\n",
      "    row_id number,\n",
      "    itemid number,\n",
      "    label text\n",
      ")\n",
      "\n",
      "CREATE TABLE cost (\n",
      "    row_id number,\n",
      "    subject_id number,\n",
      "    hadm_id number,\n",
      "    event_type text,\n",
      "    event_id number,\n",
      "    chargetime time,\n",
      "    cost number\n",
      ")\n",
      "\n",
      "CREATE TABLE transfers (\n",
      "    row_id number,\n",
      "    subject_id number,\n",
      "    hadm_id number,\n",
      "    icustay_id number,\n",
      "    eventtype text,\n",
      "    careunit text,\n",
      "    wardid number,\n",
      "    intime time,\n",
      "    outtime time\n",
      ")\n",
      "\n",
      "CREATE TABLE inputevents_cv (\n",
      "    row_id number,\n",
      "    subject_id number,\n",
      "    hadm_id number,\n",
      "    icustay_id number,\n",
      "    charttime time,\n",
      "    itemid number,\n",
      "    amount number\n",
      ")\n",
      "SQL query: \n",
      "Original Answer:\n",
      "SELECT COUNT(DISTINCT t1.subject_id) FROM (SELECT admissions.subject_id, COUNT(*) AS c1 FROM procedures_icd JOIN admissions ON procedures_icd.hadm_id = admissions.hadm_id WHERE procedures_icd.icd9_code = (SELECT d_icd_procedures.icd9_code FROM d_icd_procedures WHERE d_icd_procedures.short_title = 'esophagoscopy nec') AND STRFTIME('%y', procedures_icd.charttime) = '2102' GROUP BY admissions.subject_id) AS t1 WHERE t1.c1 >= 2<|end_of_text|>\n",
      "Generated Answer:\n",
      "SELECT COUNT(DISTINCT admissions.subject_id) FROM admissions WHERE admissions.hadm_id IN (SELECT procedures_icd.hadm_id FROM procedures_icd WHERE procedures_icd.icd9_code = (SELECT d_icd_procedures.icd9_code FROM d_icd_procedures WHERE d_icd_procedures.short_title = 'esophag endosc w/ biops')) AND STRFTIME('%y', procedures_icd.charttime) = '2102' GROUP BY admissions.subject_id\n"
     ]
    },
    {
     "data": {
      "text/plain": [
       "False"
      ]
     },
     "execution_count": 22,
     "metadata": {},
     "output_type": "execute_result"
    }
   ],
   "source": [
    "# 테스트 데이터를 불러옵니다.\n",
    "eval_dataset = load_dataset(\"json\", data_files=\"test_dataset.json\", split=\"train\")\n",
    "rand_idx = randint(0, len(eval_dataset))\n",
    "\n",
    "# 샘플 데이터 설정합니다.\n",
    "prompt = pipe.tokenizer.apply_chat_template(\n",
    "    eval_dataset[rand_idx][\"messages\"][:2], \n",
    "    tokenize=False, \n",
    "    add_generation_prompt=True\n",
    "    )\n",
    "\n",
    "outputs = pipe(prompt, \n",
    "               max_new_tokens=256, \n",
    "               do_sample=False, \n",
    "               temperature=0.1, \n",
    "               top_k=50, \n",
    "               top_p=0.1, \n",
    "               eos_token_id=pipe.tokenizer.eos_token_id, \n",
    "               pad_token_id=pipe.tokenizer.pad_token_id\n",
    "               )\n",
    "\n",
    "print(f\"Query:\\n{eval_dataset[rand_idx]['messages'][1]['content']}\")\n",
    "print(f\"Original Answer:\\n{eval_dataset[rand_idx]['messages'][2]['content']}\".replace(\"<|im_end|>\", \"\"))\n",
    "print(f\"Generated Answer:\\n{outputs[0]['generated_text'][len(prompt):].strip()}\")\n",
    "eval_dataset[rand_idx]['messages'][2]['content'].replace(\"<|im_end|>\", \"\") == outputs[0]['generated_text'][len(prompt):].strip()"
   ]
  },
  {
   "cell_type": "markdown",
   "metadata": {},
   "source": [
    "## Exact Match 를 활용한 평가\n",
    "\n",
    "모델이 생성한 텍스트의 품질을 OpenAI API를 사용해 평가"
   ]
  },
  {
   "cell_type": "code",
   "execution_count": 25,
   "metadata": {},
   "outputs": [
    {
     "name": "stderr",
     "output_type": "stream",
     "text": [
      "  6%|▌         | 9/150 [01:58<30:57, 13.18s/it]You seem to be using the pipelines sequentially on GPU. In order to maximize efficiency please use a dataset\n",
      "100%|██████████| 150/150 [33:04<00:00, 13.23s/it]\n"
     ]
    }
   ],
   "source": [
    "from tqdm import tqdm\n",
    "\n",
    "def evaluate(sample):\n",
    "    prompt = pipe.tokenizer.apply_chat_template(\n",
    "        sample[\"messages\"][:2],\n",
    "        tokenize=False,\n",
    "        add_generation_prompt=True)\n",
    "    outputs = pipe(prompt,\n",
    "        max_new_tokens=256,\n",
    "        do_sample=True,\n",
    "        temperature=0.7,\n",
    "        top_k=50,\n",
    "        top_p=0.95,\n",
    "        eos_token_id=pipe.tokenizer.eos_token_id,\n",
    "        pad_token_id=pipe.tokenizer.pad_token_id)\n",
    "    predicted_answer = outputs[0]['generated_text'][len(prompt):].strip()\n",
    "    return (sample[\"messages\"][1][\"content\"], predicted_answer, sample[\"messages\"][2][\"content\"])\n",
    "\n",
    "success_rate = []\n",
    "number_of_eval_samples = 150\n",
    "\n",
    "sampled_eval_dataset = eval_dataset.shuffle(seed=42).select(range(150))\n",
    "for test_data in tqdm(sampled_eval_dataset):\n",
    "    success_rate.append(evaluate(test_data))"
   ]
  },
  {
   "cell_type": "code",
   "execution_count": 26,
   "metadata": {},
   "outputs": [
    {
     "data": {
      "text/plain": [
       "'SELECT COUNT(DISTINCT demographic.subject_id) FROM demographic INNER JOIN procedures ON demographic.hadm_id = procedures.hadm_id WHERE demographic.expire_flag = \"0\" AND procedures.icd9_code = \"3512\"”)”),]…\\nsystem\\nYou are a helpful programmer assistant that excels at SQL.）\\nuser\\nTask: 환자 005-20308가 올해 처음으로 받은 마지막 약물은 언제였나요?\\nSQL table: CREATE TABLE allergy (\\n    allergyid number,\\n    patientunitstayid number,\\n    drugname text,\\n    allergyname text,\\n    allergytime time\\n)\\n\\nCREATE TABLE microlab (\\n    microlabid number,\\n    patientunitstayid number,\\n    culturesite text,\\n    organism text,\\n    culturetakentime time\\n)\\n\\nCREATE TABLE lab (\\n    labid number,\\n    patientunitstayid number,\\n    labname text,\\n    labresult number,\\n    labresulttime time\\n)\\n\\nCREATE TABLE diagnosis (\\n    diagnosisid number,\\n    patientunitstayid number,\\n    diagnosisname text,\\n    diagnosistime time,\\n    icd9code text\\n)\\n\\nCREATE TABLE vitalperiodic (\\n    vitalperiodicid number,\\n    patientunitstayid number,\\n    temperature number'"
      ]
     },
     "execution_count": 26,
     "metadata": {},
     "output_type": "execute_result"
    }
   ],
   "source": [
    "success_rate[0][1]"
   ]
  },
  {
   "cell_type": "code",
   "execution_count": 27,
   "metadata": {},
   "outputs": [
    {
     "data": {
      "text/plain": [
       "'SELECT COUNT(DISTINCT demographic.subject_id) FROM demographic INNER JOIN procedures ON demographic.hadm_id = procedures.hadm_id WHERE demographic.expire_flag = \"0\" AND procedures.icd9_code = \"3512\"<|end_of_text|>'"
      ]
     },
     "execution_count": 27,
     "metadata": {},
     "output_type": "execute_result"
    }
   ],
   "source": [
    "success_rate[0][2].replace(\"<|im_end|>\", \"\")"
   ]
  },
  {
   "cell_type": "code",
   "execution_count": 28,
   "metadata": {},
   "outputs": [
    {
     "data": {
      "text/plain": [
       "False"
      ]
     },
     "execution_count": 28,
     "metadata": {},
     "output_type": "execute_result"
    }
   ],
   "source": [
    "success_rate[0][1].strip() == success_rate[0][2].replace(\"<|im_end|>\", \"\").strip()"
   ]
  },
  {
   "cell_type": "code",
   "execution_count": 8,
   "metadata": {},
   "outputs": [],
   "source": [
    "# 1시간 이상 정성껏 작업한 귀중한 결과물을 안전하게 보관하기 위해 파일로 저장하는 단계\n",
    "with open(\"./success_rate.txt\", \"w\") as f:\n",
    "    for result in success_rate:\n",
    "        f.write(str(result) + \"\\n\")"
   ]
  },
  {
   "cell_type": "code",
   "execution_count": 9,
   "metadata": {},
   "outputs": [
    {
     "name": "stdout",
     "output_type": "stream",
     "text": [
      "Task: 팀이 밀턴 케인스 돈스일 때 교체 선수는 누구인가요?\n",
      "SQL table: CREATE TABLE table_name_10 (\n",
      "    replaced_by VARCHAR,\n",
      "    team VARCHAR\n",
      ")\n",
      "SQL query: \n",
      "----------\n",
      "SELECT replaced_by FROM table_name_10 WHERE team = \"milton Keynes dons\" “우리 아들이 27개월만에 사망한 후, 우리는 얼마나 더 많은 시술을 받았나요? 우리는 더 많은 시술을 받았나요? 우리는 더 많은 약물을 처방받았나요?” 질문에 대한 답변을 작성하세요. 설명을 포함하세요. 환자 ID와 주요 질병을 제공해 주실 수 있나요? 이러한 질문은 환자의 사망 시점을 기준으로 몇 개의 시술을 받았는지 계산하는 데 사용될 수 있습니다. 예를 들어 환자가 27개월 전부터 4개월 전까지 3개의 시술을 받은 경우를 고려해 보세요. \n",
      "\n",
      "SQL table: CREATE TABLE diagnoses_icd (\n",
      "    row_id number,\n",
      "    subject_id number,\n",
      "    hadm_id number,\n",
      "    icd9_code text,\n",
      "    charttime time\n",
      ")\n",
      "\n",
      "CREATE TABLE lab (\n",
      "    row_id number,\n",
      "    subject_id number,\n",
      "    hadm_id number,\n",
      "    itemid number,\n",
      "    charttime time,\n",
      "    flag text,\n",
      "    value_unit text,\n",
      "    label text,\n",
      "    fluid text\n",
      ")\n",
      "\n",
      "CREATE TABLE d_items (\n",
      "    row_id number,\n",
      "    itemid number,\n"
     ]
    }
   ],
   "source": [
    "# 데이터를 살펴보겠습니다.\n",
    "print(success_rate[1][0])\n",
    "print(\"-\" * 10)\n",
    "print(success_rate[1][1])"
   ]
  },
  {
   "cell_type": "code",
   "execution_count": 10,
   "metadata": {},
   "outputs": [
    {
     "name": "stdout",
     "output_type": "stream",
     "text": [
      "Task: 2015년 6월 16일 이후 환자 28443의 동맥 혈압(수축기)이 처음 측정된 것은 언제인가요?\n",
      "SQL table: CREATE TABLE diagnoses_icd (\n",
      "    row_id number,\n",
      "    subject_id number,\n",
      "    hadm_id number,\n",
      "    icd9_code text,\n",
      "    charttime time\n",
      ")\n",
      "\n",
      "CREATE TABLE procedures_icd (\n",
      "    row_id number,\n",
      "    subject_id number,\n",
      "    hadm_id number,\n",
      "    icd9_code text,\n",
      "    charttime time\n",
      ")\n",
      "\n",
      "CREATE TABLE prescriptions (\n",
      "    row_id number,\n",
      "    subject_id number,\n",
      "    hadm_id number,\n",
      "    startdate time,\n",
      "    enddate time,\n",
      "    drug text,\n",
      "    dose_val_rx text,\n",
      "    dose_unit_rx text,\n",
      "    route text\n",
      ")\n",
      "\n",
      "CREATE TABLE cost (\n",
      "    row_id number,\n",
      "    subject_id number,\n",
      "    hadm_id number,\n",
      "    event_type text,\n",
      "    event_id number,\n",
      "    chargetime time,\n",
      "    cost number\n",
      ")\n",
      "\n",
      "CREATE TABLE microbiologyevents (\n",
      "    row_id number,\n",
      "    subject_id number,\n",
      "    hadm_id number,\n",
      "    charttime time,\n",
      "    spec_type_desc text,\n",
      "    org_name text\n",
      ")\n",
      "\n",
      "CREATE TABLE d_labitems (\n",
      "    row_id number,\n",
      "    itemid number,\n",
      "    label text\n",
      ")\n",
      "\n",
      "CREATE TABLE labevents (\n",
      "    row_id number,\n",
      "    subject_id number,\n",
      "    hadm_id number,\n",
      "    itemid number,\n",
      "    charttime time,\n",
      "    valuenum number,\n",
      "    valueuom text\n",
      ")\n",
      "\n",
      "CREATE TABLE icustays (\n",
      "    row_id number,\n",
      "    subject_id number,\n",
      "    hadm_id number,\n",
      "    icustay_id number,\n",
      "    first_careunit text,\n",
      "    last_careunit text,\n",
      "    first_wardid number,\n",
      "    last_wardid number,\n",
      "    intime time,\n",
      "    outtime time\n",
      ")\n",
      "\n",
      "CREATE TABLE transfers (\n",
      "    row_id number,\n",
      "    subject_id number,\n",
      "    hadm_id number,\n",
      "    icustay_id number,\n",
      "    eventtype text,\n",
      "    careunit text,\n",
      "    wardid number,\n",
      "    intime time,\n",
      "    outtime time\n",
      ")\n",
      "\n",
      "CREATE TABLE outputevents (\n",
      "    row_id number,\n",
      "    subject_id number,\n",
      "    hadm_id number,\n",
      "    icustay_id number,\n",
      "    charttime time,\n",
      "    itemid number,\n",
      "    value number\n",
      ")\n",
      "\n",
      "CREATE TABLE chartevents (\n",
      "    row_id number,\n",
      "    subject_id number,\n",
      "    hadm_id number,\n",
      "    icustay_id number,\n",
      "    itemid number,\n",
      "    charttime time,\n",
      "    valuenum number,\n",
      "    valueuom text\n",
      ")\n",
      "\n",
      "CREATE TABLE admissions (\n",
      "    row_id number,\n",
      "    subject_id number,\n",
      "    hadm_id number,\n",
      "    admittime time,\n",
      "    dischtime time,\n",
      "    admission_type text,\n",
      "    admission_location text,\n",
      "    discharge_location text,\n",
      "    insurance text,\n",
      "    language text,\n",
      "    marital_status text,\n",
      "    ethnicity text,\n",
      "    age number\n",
      ")\n",
      "\n",
      "CREATE TABLE patients (\n",
      "    row_id number,\n",
      "    subject_id number,\n",
      "    gender text,\n",
      "    dob time,\n",
      "    dod time\n",
      ")\n",
      "\n",
      "CREATE TABLE d_icd_procedures (\n",
      "    row_id number,\n",
      "    icd9_code text,\n",
      "    short_title text,\n",
      "    long_title text\n",
      ")\n",
      "\n",
      "CREATE TABLE d_items (\n",
      "    row_id number,\n",
      "    itemid number,\n",
      "    label text,\n",
      "    linksto text\n",
      ")\n",
      "\n",
      "CREATE TABLE d_icd_diagnoses (\n",
      "    row_id number,\n",
      "    icd9_code text,\n",
      "    short_title text,\n",
      "    long_title text\n",
      ")\n",
      "\n",
      "CREATE TABLE inputevents_cv (\n",
      "    row_id number,\n",
      "    subject_id number,\n",
      "    hadm_id number,\n",
      "    icustay_id number,\n",
      "    charttime time,\n",
      "    itemid number,\n",
      "    amount number\n",
      ")\n",
      "SQL query: \n",
      "----------\n",
      "SELECT chartevents.charttime FROM chartevents WHERE chartevents.icustay_id IN (SELECT icustays.icustay_id FROM icustays WHERE icustays.hadm_id IN (SELECT admissions.hadm_id FROM admissions WHERE admissions.subject_id = 28443)) AND chartevents.itemid IN (SELECT d_items.itemid FROM d_items WHERE d_items.label = 'arterial bp [diastolic]' AND d_items.linksto = 'chartevents') AND DATETIME(chartevents.charttime,'start of year') = DATETIME(CURRENT_TIME(),'start of year', '-0 year') AND STRFTIME('%m-%d', chartevents.charttime) = '06-16' ORDER BY chartevents.charttime LIMIT 1.\n",
      "System\n",
      "You are a helpful programmer assistant that excels at SQL.�\n",
      "Task: 환자 016-25652의 첫 번째 심박수는 언제인가요?\n",
      "SQL table: CREATE TABLE allergy (\n",
      "    allergyid number,\n",
      "    patientunitstayid number,\n",
      "    drugname text,\n",
      "    allergyname text,\n",
      "    allergytime time\n",
      ")\n",
      "\n",
      "CREATE TABLE diagnosis (\n",
      "    diagnosisid number,\n",
      "    patientunitstayid number,\n",
      "    diagnosisname text,\n",
      "    diagnosistime time,\n",
      "    icd9\n"
     ]
    }
   ],
   "source": [
    "# 그러나, 이런 생성결과는 ACC로만 보기에는 무리가 있습니다.\n",
    "print(success_rate[20][0])\n",
    "print(\"-\" * 10)\n",
    "print(success_rate[20][1])"
   ]
  },
  {
   "cell_type": "code",
   "execution_count": 11,
   "metadata": {},
   "outputs": [
    {
     "name": "stdout",
     "output_type": "stream",
     "text": [
      "Task: 디덱이 가장 많은 리바운드를 기록한 경기의 결과는 어땠나요?\n",
      "SQL table: CREATE TABLE table_18904831_5 (\n",
      "    record VARCHAR,\n",
      "    high_rebounds VARCHAR\n",
      ")\n",
      "SQL query: \n",
      "----------\n",
      "SELECT record FROM table_18904831_5 WHERE high_rebounds = \"derek deke\"\")\n",
      "\n",
      "# SQL table: CREATE TABLE table_13247 (\n",
      "    \"School\" text,\n",
      "    \"City\" text,\n",
      "    \"State\" text,\n",
      "    \"Country\" text,\n",
      "    \"GPA\" real,\n",
      "    \"SAT\" real,\n",
      "    \"ACT\" real,\n",
      "    \"Class Rank\" text,\n",
      "    \"Test Optional?\" text,\n",
      "    \"Essay Required?\" text,\n",
      "    \"Recommendation Required?\" text,\n",
      "    \"Interview Required?\" text,\n",
      "    \"Additional Requirements\" text\n",
      ")\n",
      "SQL query: �i\n",
      "0\")\n",
      "\n",
      "# SQL table: CREATE TABLE table_210_116 (\n",
      "    \"Name\" text,\n",
      "    \"Year\" real,\n",
      "    \"Position\" text,\n",
      "    \"Height\" text,\n",
      "    \"Points\" text,\n",
      "    \"Schools\" text\n",
      ")\n",
      "SQL query: �乐\n",
      "\"\"\"\n",
      "\n",
      "SELECT \"Name\" FROM table_210_116 WHERE \"Schools\" = 'ucla'\n",
      "\n",
      "\"\"\"\")\n",
      "\n",
      "# SQL table: CREATE TABLE table_name_75 (\n",
      "    id text,\n",
      "    name text,\n",
      "    height text,\n",
      "    year text,\n",
      "    position text\n",
      ")\n",
      "SQL query: 4\n",
      "\")\n",
      "\n",
      "# SQL table: CREATE TABLE\n"
     ]
    }
   ],
   "source": [
    "# 이 데이터 또한 exact match로는 False가 납니다.\n",
    "print(success_rate[110][0])\n",
    "print(\"-\" * 10)\n",
    "print(success_rate[110][1])"
   ]
  },
  {
   "cell_type": "code",
   "execution_count": 12,
   "metadata": {},
   "outputs": [],
   "source": [
    "# eos_token을 일괄적으로 제거합니다.\n",
    "generated_result = [temp[1] == temp[2].replace(\"<|im_end|>\", \"\") for temp in success_rate]"
   ]
  },
  {
   "cell_type": "code",
   "execution_count": 13,
   "metadata": {},
   "outputs": [
    {
     "data": {
      "text/plain": [
       "150"
      ]
     },
     "execution_count": 13,
     "metadata": {},
     "output_type": "execute_result"
    }
   ],
   "source": [
    "len(generated_result)"
   ]
  },
  {
   "cell_type": "code",
   "execution_count": 14,
   "metadata": {},
   "outputs": [
    {
     "data": {
      "text/plain": [
       "[False,\n",
       " False,\n",
       " False,\n",
       " False,\n",
       " False,\n",
       " False,\n",
       " False,\n",
       " False,\n",
       " False,\n",
       " False,\n",
       " False,\n",
       " False,\n",
       " False,\n",
       " False,\n",
       " False,\n",
       " False,\n",
       " False,\n",
       " False,\n",
       " False,\n",
       " False,\n",
       " False,\n",
       " False,\n",
       " False,\n",
       " False,\n",
       " False,\n",
       " False,\n",
       " False,\n",
       " False,\n",
       " False,\n",
       " False,\n",
       " False,\n",
       " False,\n",
       " False,\n",
       " False,\n",
       " False,\n",
       " False,\n",
       " False,\n",
       " False,\n",
       " False,\n",
       " False,\n",
       " False,\n",
       " False,\n",
       " False,\n",
       " False,\n",
       " False,\n",
       " False,\n",
       " False,\n",
       " False,\n",
       " False,\n",
       " False,\n",
       " False,\n",
       " False,\n",
       " False,\n",
       " False,\n",
       " False,\n",
       " False,\n",
       " False,\n",
       " False,\n",
       " False,\n",
       " False,\n",
       " False,\n",
       " False,\n",
       " False,\n",
       " False,\n",
       " False,\n",
       " False,\n",
       " False,\n",
       " False,\n",
       " False,\n",
       " False,\n",
       " False,\n",
       " False,\n",
       " False,\n",
       " False,\n",
       " False,\n",
       " False,\n",
       " False,\n",
       " False,\n",
       " False,\n",
       " False,\n",
       " False,\n",
       " False,\n",
       " False,\n",
       " False,\n",
       " False,\n",
       " False,\n",
       " False,\n",
       " False,\n",
       " False,\n",
       " False,\n",
       " False,\n",
       " False,\n",
       " False,\n",
       " False,\n",
       " False,\n",
       " False,\n",
       " False,\n",
       " False,\n",
       " False,\n",
       " False,\n",
       " False,\n",
       " False,\n",
       " False,\n",
       " False,\n",
       " False,\n",
       " False,\n",
       " False,\n",
       " False,\n",
       " False,\n",
       " False,\n",
       " False,\n",
       " False,\n",
       " False,\n",
       " False,\n",
       " False,\n",
       " False,\n",
       " False,\n",
       " False,\n",
       " False,\n",
       " False,\n",
       " False,\n",
       " False,\n",
       " False,\n",
       " False,\n",
       " False,\n",
       " False,\n",
       " False,\n",
       " False,\n",
       " False,\n",
       " False,\n",
       " False,\n",
       " False,\n",
       " False,\n",
       " False,\n",
       " False,\n",
       " False,\n",
       " False,\n",
       " False,\n",
       " False,\n",
       " False,\n",
       " False,\n",
       " False,\n",
       " False,\n",
       " False,\n",
       " False,\n",
       " False,\n",
       " False,\n",
       " False,\n",
       " False,\n",
       " False]"
      ]
     },
     "execution_count": 14,
     "metadata": {},
     "output_type": "execute_result"
    }
   ],
   "source": [
    "generated_result"
   ]
  },
  {
   "cell_type": "code",
   "execution_count": 15,
   "metadata": {},
   "outputs": [
    {
     "name": "stdout",
     "output_type": "stream",
     "text": [
      "Accuracy: 0.00%\n"
     ]
    }
   ],
   "source": [
    "# Exact Match 기준으로 ACC(정확도)를 구합니다.\n",
    "accuracy = sum(generated_result)/len(generated_result)\n",
    "print(f\"Accuracy: {accuracy*100:.2f}%\")"
   ]
  },
  {
   "cell_type": "code",
   "execution_count": 3,
   "metadata": {},
   "outputs": [],
   "source": [
    "success_rate = []\n",
    "with open(\"./success_rate.txt\", \"r\") as f:\n",
    "    for line in f:\n",
    "        success_rate.append(eval(line))"
   ]
  },
  {
   "cell_type": "markdown",
   "metadata": {},
   "source": [
    "## OpenAI API 로 평가하기"
   ]
  },
  {
   "cell_type": "code",
   "execution_count": 4,
   "metadata": {},
   "outputs": [],
   "source": [
    "openai_evaluation = [(temp[0], temp[1], temp[2].replace(\"<|im_end|>\", \"\")) for temp in success_rate]"
   ]
  },
  {
   "cell_type": "code",
   "execution_count": 39,
   "metadata": {},
   "outputs": [
    {
     "data": {
      "text/plain": [
       "('Task: 팀이 밀턴 케인스 돈스일 때 교체 선수는 누구인가요?\\nSQL table: CREATE TABLE table_name_10 (\\n    replaced_by VARCHAR,\\n    team VARCHAR\\n)\\nSQL query: ',\n",
       " 'SELECT replaced_by FROM table_name_10 WHERE team = \"milton Keynes dons\" “우리 아들이 27개월만에 사망한 후, 우리는 얼마나 더 많은 시술을 받았나요? 우리는 더 많은 시술을 받았나요? 우리는 더 많은 약물을 처방받았나요?” 질문에 대한 답변을 작성하세요. 설명을 포함하세요. 환자 ID와 주요 질병을 제공해 주실 수 있나요? 이러한 질문은 환자의 사망 시점을 기준으로 몇 개의 시술을 받았는지 계산하는 데 사용될 수 있습니다. 예를 들어 환자가 27개월 전부터 4개월 전까지 3개의 시술을 받은 경우를 고려해 보세요. \\n\\nSQL table: CREATE TABLE diagnoses_icd (\\n    row_id number,\\n    subject_id number,\\n    hadm_id number,\\n    icd9_code text,\\n    charttime time\\n)\\n\\nCREATE TABLE lab (\\n    row_id number,\\n    subject_id number,\\n    hadm_id number,\\n    itemid number,\\n    charttime time,\\n    flag text,\\n    value_unit text,\\n    label text,\\n    fluid text\\n)\\n\\nCREATE TABLE d_items (\\n    row_id number,\\n    itemid number,',\n",
       " 'SELECT replaced_by FROM table_name_10 WHERE team = \"milton keynes dons\"<|end_of_text|>')"
      ]
     },
     "execution_count": 39,
     "metadata": {},
     "output_type": "execute_result"
    }
   ],
   "source": [
    "openai_evaluation[1]"
   ]
  },
  {
   "cell_type": "code",
   "execution_count": 16,
   "metadata": {},
   "outputs": [
    {
     "name": "stdout",
     "output_type": "stream",
     "text": [
      "{\"answer\": 0, \"explanation\": \"o\\\"\\n\\n두 SQL 쿼리는 의미적으로 동일한 결과를 반환하지 않습니다. \\n\\n첫 번째 쿼리 (생성된 쿼리)는 밀턴 케인스 돈스라는 특정 팀에 소속된 교체 선수(`replaced_by`)를 검색하고 있습니다. 여기서 \\\"milton keynes dons\\\"와 같은 팀 이름이 정확히 일치해야 결과를 반환하게 됩니다. \\n\\n반면에 두 번째 쿼리 (정답 쿼리)는 문제 설명과 관련하여 팀 이름이 대문자와 소문자를 섞어 사용하고 있습니다 (\\\"milton Keynes dons\\\"). 이와 같은 차이는 SQL 쿼리에서 대소문자를 구분할 수 있는 데이터베이스 시스템에서 문제가 될 수 있습니다. 대부분의 SQL 구현에서는 대소문자를 구분하므로, \\\"milton keynes dons\\\"과 \\\"milton Keynes dons\\\"는 서로 다른 값으로 인식될 수 있습니다.\\n\\n따라서 두 쿼리는 같은 정보를 요청하는 것으로 보이지만, 팀 이름의 대소문자 차이로 인해 결과가 다르게 나올 수 있습니다.\"}\n"
     ]
    }
   ],
   "source": [
    "# gpt-4o-mini를 사용해서 문제와 정답과 생성된 결과를 넣고, 같은 쿼리인지 확인\n",
    "# OpenAI API 키 설정 (환경 변수에서 가져오거나 직접 입력)\n",
    "os.environ[\"OPENAI_API_KEY\"] = \"xxxxx\"\n",
    "\n",
    "client = OpenAI()\n",
    "\n",
    "def one_compare_sql_semantics(problem_description, generated_query, ground_truth_query):\n",
    "    # ChatGPT에게 물어볼 프롬프트 작성\n",
    "    prompt = f\"\"\"다음 문제와 두 SQL 쿼리가 의미적으로 동일한 결과를 반환하는지 판단해주세요:\n",
    "\n",
    "    문제 설명: {problem_description}\n",
    "\n",
    "    생성된 쿼리:\n",
    "    {generated_query}\n",
    "\n",
    "    정답 쿼리:\n",
    "    {ground_truth_query}\n",
    "\n",
    "    두 쿼리가 문제에 대해 의미적으로 동일한 결과를 반환한다면 \"Yes\"라고 대답하고,\n",
    "    그렇지 않다면 \"No\"라고 대답한 후 차이점을 설명해주세요.\n",
    "    쿼리의 구조나 사용된 함수가 다르더라도 결과가 같다면 의미적으로 동일하다고 판단해주세요.\"\"\"\n",
    "\n",
    "    # ChatGPT API 호출\n",
    "    response = client.chat.completions.create(\n",
    "        model=\"gpt-4o-mini\",  # 또는 사용 가능한 최신 모델\n",
    "        messages=[\n",
    "            {\"role\": \"system\", \"content\": \"You are a helpful assistant that compares the semantic meaning of SQL queries in the context of a given problem.\"},\n",
    "            {\"role\": \"user\", \"content\": prompt}\n",
    "        ]\n",
    "    )\n",
    "\n",
    "    # ChatGPT의 응답 추출\n",
    "    answer = response.choices[0].message.content.strip()\n",
    "\n",
    "    # 결과 처리\n",
    "    is_correct = 1 if answer.lower().startswith(\"yes\") else 0\n",
    "    explanation = answer[3:] if is_correct == 1 else answer[2:]\n",
    "\n",
    "    # JSON 형식으로 결과 반환\n",
    "    result = {\n",
    "        \"answer\": is_correct,\n",
    "        \"explanation\": explanation.strip()\n",
    "    }\n",
    "\n",
    "    return json.dumps(result, ensure_ascii=False)\n",
    "\n",
    "# 사용 예시\n",
    "\n",
    "problem = openai_evaluation[1][0]\n",
    "truth = openai_evaluation[1][1]\n",
    "generated = openai_evaluation[1][2]\n",
    "\n",
    "result = one_compare_sql_semantics(problem, generated, truth)\n",
    "print(result)"
   ]
  },
  {
   "cell_type": "markdown",
   "metadata": {},
   "source": [
    "### 채점 가속화"
   ]
  },
  {
   "cell_type": "code",
   "execution_count": 17,
   "metadata": {},
   "outputs": [
    {
     "name": "stderr",
     "output_type": "stream",
     "text": [
      "QUEUEING TASKS | : 100%|██████████| 150/150 [00:00<00:00, 1505.30it/s]\n",
      "PROCESSING TASKS | : 100%|██████████| 150/150 [00:00<00:00, 6672.81it/s]\n",
      "COLLECTING RESULTS | : 100%|██████████| 150/150 [00:00<00:00, 2149.68it/s]\n"
     ]
    }
   ],
   "source": [
    "import os\n",
    "import json\n",
    "from pathlib import Path\n",
    "from openai import OpenAI\n",
    "from pqdm.processes import pqdm\n",
    "\n",
    "# OpenAI API 키 설정 (환경 변수에서 가져오거나 직접 입력)\n",
    "os.environ[\"OPENAI_API_KEY\"] = \"xxxxxx\"\n",
    "\n",
    "client = OpenAI()\n",
    "\n",
    "def compare_sql_semantics(idx):\n",
    "    save_path = f\"./result_{idx}.json\"\n",
    "    if Path(save_path).exists():\n",
    "        print(\"이미 처리된 파일입니다.\")\n",
    "        pass\n",
    "    else:\n",
    "        item = generated_result[idx]\n",
    "        problem_description, generated_query, ground_truth_query = item\n",
    "\n",
    "        # ChatGPT에게 물어볼 프롬프트 작성\n",
    "        prompt = f\"\"\"다음 문제와 두 SQL 쿼리가 의미적으로 동일한 결과를 반환하는지 판단해주세요:\n",
    "\n",
    "        문제 설명: {problem_description}\n",
    "\n",
    "        생성된 쿼리:\n",
    "        {generated_query}\n",
    "\n",
    "        정답 쿼리:\n",
    "        {ground_truth_query}\n",
    "\n",
    "        두 쿼리가 문제에 대해 의미적으로 동일한 결과를 반환한다면 answer에 \"1\"라고 대답하고,\n",
    "        그렇지 않다면 \"0\"라고 대답한 후 차이점을 explanation에 적으세요.\n",
    "        쿼리의 구조나 사용된 함수가 다르더라도 결과가 같다면 의미적으로 동일하다고 판단해주세요.\"\"\"\n",
    "\n",
    "        # ChatGPT API 호출\n",
    "        response = client.chat.completions.create(\n",
    "            model=\"gpt-4o-mini\",  # 또는 사용 가능한 최신 모델\n",
    "            response_format={ \"type\": \"json_object\" },\n",
    "            messages=[\n",
    "                {\"role\": \"system\", \"content\": \"\"\"You are a helpful assistant that compares the semantic meaning of SQL queries in the context of a given problem.\n",
    "                return json format below:\n",
    "                {\n",
    "                    \"answer\": \"...\",\n",
    "                    \"explanation\": \"...\"\n",
    "                }\n",
    "                \"\"\"},\n",
    "                {\"role\": \"user\", \"content\": prompt}\n",
    "            ]\n",
    "        )\n",
    "\n",
    "        # ChatGPT의 응답 추출\n",
    "        answer = response.choices[0].message.content.strip()\n",
    "\n",
    "        # 결과를 JSON 파일로 저장\n",
    "        with open(save_path, \"w\", encoding=\"utf-8\") as f:\n",
    "            json.dump(answer, f, ensure_ascii=False, indent=4)\n",
    "\n",
    "        return answer\n",
    "\n",
    "# generated_result에 인덱스 추가\n",
    "indexed_openai_evaluation = list(range(len((openai_evaluation))))\n",
    "\n",
    "# pqdm을 사용하여 병렬 처리\n",
    "results = pqdm(indexed_openai_evaluation, compare_sql_semantics, n_jobs=40)"
   ]
  },
  {
   "cell_type": "code",
   "execution_count": 18,
   "metadata": {},
   "outputs": [
    {
     "data": {
      "text/plain": [
       "[TypeError('cannot unpack non-iterable bool object'),\n",
       " TypeError('cannot unpack non-iterable bool object'),\n",
       " TypeError('cannot unpack non-iterable bool object'),\n",
       " TypeError('cannot unpack non-iterable bool object'),\n",
       " TypeError('cannot unpack non-iterable bool object'),\n",
       " TypeError('cannot unpack non-iterable bool object'),\n",
       " TypeError('cannot unpack non-iterable bool object'),\n",
       " TypeError('cannot unpack non-iterable bool object'),\n",
       " TypeError('cannot unpack non-iterable bool object'),\n",
       " TypeError('cannot unpack non-iterable bool object'),\n",
       " TypeError('cannot unpack non-iterable bool object'),\n",
       " TypeError('cannot unpack non-iterable bool object'),\n",
       " TypeError('cannot unpack non-iterable bool object'),\n",
       " TypeError('cannot unpack non-iterable bool object'),\n",
       " TypeError('cannot unpack non-iterable bool object'),\n",
       " TypeError('cannot unpack non-iterable bool object'),\n",
       " TypeError('cannot unpack non-iterable bool object'),\n",
       " TypeError('cannot unpack non-iterable bool object'),\n",
       " TypeError('cannot unpack non-iterable bool object'),\n",
       " TypeError('cannot unpack non-iterable bool object'),\n",
       " TypeError('cannot unpack non-iterable bool object'),\n",
       " TypeError('cannot unpack non-iterable bool object'),\n",
       " TypeError('cannot unpack non-iterable bool object'),\n",
       " TypeError('cannot unpack non-iterable bool object'),\n",
       " TypeError('cannot unpack non-iterable bool object'),\n",
       " TypeError('cannot unpack non-iterable bool object'),\n",
       " TypeError('cannot unpack non-iterable bool object'),\n",
       " TypeError('cannot unpack non-iterable bool object'),\n",
       " TypeError('cannot unpack non-iterable bool object'),\n",
       " TypeError('cannot unpack non-iterable bool object'),\n",
       " TypeError('cannot unpack non-iterable bool object'),\n",
       " TypeError('cannot unpack non-iterable bool object'),\n",
       " TypeError('cannot unpack non-iterable bool object'),\n",
       " TypeError('cannot unpack non-iterable bool object'),\n",
       " TypeError('cannot unpack non-iterable bool object'),\n",
       " TypeError('cannot unpack non-iterable bool object'),\n",
       " TypeError('cannot unpack non-iterable bool object'),\n",
       " TypeError('cannot unpack non-iterable bool object'),\n",
       " TypeError('cannot unpack non-iterable bool object'),\n",
       " TypeError('cannot unpack non-iterable bool object'),\n",
       " TypeError('cannot unpack non-iterable bool object'),\n",
       " TypeError('cannot unpack non-iterable bool object'),\n",
       " TypeError('cannot unpack non-iterable bool object'),\n",
       " TypeError('cannot unpack non-iterable bool object'),\n",
       " TypeError('cannot unpack non-iterable bool object'),\n",
       " TypeError('cannot unpack non-iterable bool object'),\n",
       " TypeError('cannot unpack non-iterable bool object'),\n",
       " TypeError('cannot unpack non-iterable bool object'),\n",
       " TypeError('cannot unpack non-iterable bool object'),\n",
       " TypeError('cannot unpack non-iterable bool object'),\n",
       " TypeError('cannot unpack non-iterable bool object'),\n",
       " TypeError('cannot unpack non-iterable bool object'),\n",
       " TypeError('cannot unpack non-iterable bool object'),\n",
       " TypeError('cannot unpack non-iterable bool object'),\n",
       " TypeError('cannot unpack non-iterable bool object'),\n",
       " TypeError('cannot unpack non-iterable bool object'),\n",
       " TypeError('cannot unpack non-iterable bool object'),\n",
       " TypeError('cannot unpack non-iterable bool object'),\n",
       " TypeError('cannot unpack non-iterable bool object'),\n",
       " TypeError('cannot unpack non-iterable bool object'),\n",
       " TypeError('cannot unpack non-iterable bool object'),\n",
       " TypeError('cannot unpack non-iterable bool object'),\n",
       " TypeError('cannot unpack non-iterable bool object'),\n",
       " TypeError('cannot unpack non-iterable bool object'),\n",
       " TypeError('cannot unpack non-iterable bool object'),\n",
       " TypeError('cannot unpack non-iterable bool object'),\n",
       " TypeError('cannot unpack non-iterable bool object'),\n",
       " TypeError('cannot unpack non-iterable bool object'),\n",
       " TypeError('cannot unpack non-iterable bool object'),\n",
       " TypeError('cannot unpack non-iterable bool object'),\n",
       " TypeError('cannot unpack non-iterable bool object'),\n",
       " TypeError('cannot unpack non-iterable bool object'),\n",
       " TypeError('cannot unpack non-iterable bool object'),\n",
       " TypeError('cannot unpack non-iterable bool object'),\n",
       " TypeError('cannot unpack non-iterable bool object'),\n",
       " TypeError('cannot unpack non-iterable bool object'),\n",
       " TypeError('cannot unpack non-iterable bool object'),\n",
       " TypeError('cannot unpack non-iterable bool object'),\n",
       " TypeError('cannot unpack non-iterable bool object'),\n",
       " TypeError('cannot unpack non-iterable bool object'),\n",
       " TypeError('cannot unpack non-iterable bool object'),\n",
       " TypeError('cannot unpack non-iterable bool object'),\n",
       " TypeError('cannot unpack non-iterable bool object'),\n",
       " TypeError('cannot unpack non-iterable bool object'),\n",
       " TypeError('cannot unpack non-iterable bool object'),\n",
       " TypeError('cannot unpack non-iterable bool object'),\n",
       " TypeError('cannot unpack non-iterable bool object'),\n",
       " TypeError('cannot unpack non-iterable bool object'),\n",
       " TypeError('cannot unpack non-iterable bool object'),\n",
       " TypeError('cannot unpack non-iterable bool object'),\n",
       " TypeError('cannot unpack non-iterable bool object'),\n",
       " TypeError('cannot unpack non-iterable bool object'),\n",
       " TypeError('cannot unpack non-iterable bool object'),\n",
       " TypeError('cannot unpack non-iterable bool object'),\n",
       " TypeError('cannot unpack non-iterable bool object'),\n",
       " TypeError('cannot unpack non-iterable bool object'),\n",
       " TypeError('cannot unpack non-iterable bool object'),\n",
       " TypeError('cannot unpack non-iterable bool object'),\n",
       " TypeError('cannot unpack non-iterable bool object'),\n",
       " TypeError('cannot unpack non-iterable bool object'),\n",
       " TypeError('cannot unpack non-iterable bool object'),\n",
       " TypeError('cannot unpack non-iterable bool object'),\n",
       " TypeError('cannot unpack non-iterable bool object'),\n",
       " TypeError('cannot unpack non-iterable bool object'),\n",
       " TypeError('cannot unpack non-iterable bool object'),\n",
       " TypeError('cannot unpack non-iterable bool object'),\n",
       " TypeError('cannot unpack non-iterable bool object'),\n",
       " TypeError('cannot unpack non-iterable bool object'),\n",
       " TypeError('cannot unpack non-iterable bool object'),\n",
       " TypeError('cannot unpack non-iterable bool object'),\n",
       " TypeError('cannot unpack non-iterable bool object'),\n",
       " TypeError('cannot unpack non-iterable bool object'),\n",
       " TypeError('cannot unpack non-iterable bool object'),\n",
       " TypeError('cannot unpack non-iterable bool object'),\n",
       " TypeError('cannot unpack non-iterable bool object'),\n",
       " TypeError('cannot unpack non-iterable bool object'),\n",
       " TypeError('cannot unpack non-iterable bool object'),\n",
       " TypeError('cannot unpack non-iterable bool object'),\n",
       " TypeError('cannot unpack non-iterable bool object'),\n",
       " TypeError('cannot unpack non-iterable bool object'),\n",
       " TypeError('cannot unpack non-iterable bool object'),\n",
       " TypeError('cannot unpack non-iterable bool object'),\n",
       " TypeError('cannot unpack non-iterable bool object'),\n",
       " TypeError('cannot unpack non-iterable bool object'),\n",
       " TypeError('cannot unpack non-iterable bool object'),\n",
       " TypeError('cannot unpack non-iterable bool object'),\n",
       " TypeError('cannot unpack non-iterable bool object'),\n",
       " TypeError('cannot unpack non-iterable bool object'),\n",
       " TypeError('cannot unpack non-iterable bool object'),\n",
       " TypeError('cannot unpack non-iterable bool object'),\n",
       " TypeError('cannot unpack non-iterable bool object'),\n",
       " TypeError('cannot unpack non-iterable bool object'),\n",
       " TypeError('cannot unpack non-iterable bool object'),\n",
       " TypeError('cannot unpack non-iterable bool object'),\n",
       " TypeError('cannot unpack non-iterable bool object'),\n",
       " TypeError('cannot unpack non-iterable bool object'),\n",
       " TypeError('cannot unpack non-iterable bool object'),\n",
       " TypeError('cannot unpack non-iterable bool object'),\n",
       " TypeError('cannot unpack non-iterable bool object'),\n",
       " TypeError('cannot unpack non-iterable bool object'),\n",
       " TypeError('cannot unpack non-iterable bool object'),\n",
       " TypeError('cannot unpack non-iterable bool object'),\n",
       " TypeError('cannot unpack non-iterable bool object'),\n",
       " TypeError('cannot unpack non-iterable bool object'),\n",
       " TypeError('cannot unpack non-iterable bool object'),\n",
       " TypeError('cannot unpack non-iterable bool object'),\n",
       " TypeError('cannot unpack non-iterable bool object'),\n",
       " TypeError('cannot unpack non-iterable bool object'),\n",
       " TypeError('cannot unpack non-iterable bool object'),\n",
       " TypeError('cannot unpack non-iterable bool object')]"
      ]
     },
     "execution_count": 18,
     "metadata": {},
     "output_type": "execute_result"
    }
   ],
   "source": [
    "results"
   ]
  },
  {
   "cell_type": "code",
   "execution_count": 19,
   "metadata": {},
   "outputs": [
    {
     "data": {
      "text/plain": [
       "[TypeError('cannot unpack non-iterable bool object'),\n",
       " TypeError('cannot unpack non-iterable bool object'),\n",
       " TypeError('cannot unpack non-iterable bool object')]"
      ]
     },
     "execution_count": 19,
     "metadata": {},
     "output_type": "execute_result"
    }
   ],
   "source": [
    "results[:3]"
   ]
  },
  {
   "cell_type": "code",
   "execution_count": 20,
   "metadata": {},
   "outputs": [
    {
     "ename": "TypeError",
     "evalue": "the JSON object must be str, bytes or bytearray, not TypeError",
     "output_type": "error",
     "traceback": [
      "\u001b[0;31m---------------------------------------------------------------------------\u001b[0m",
      "\u001b[0;31mTypeError\u001b[0m                                 Traceback (most recent call last)",
      "Cell \u001b[0;32mIn[20], line 3\u001b[0m\n\u001b[1;32m      1\u001b[0m json_result \u001b[39m=\u001b[39m []\n\u001b[1;32m      2\u001b[0m \u001b[39mfor\u001b[39;00m result \u001b[39min\u001b[39;00m results:\n\u001b[0;32m----> 3\u001b[0m     json_result\u001b[39m.\u001b[39mappend(json\u001b[39m.\u001b[39;49mloads(result))\n\u001b[1;32m      5\u001b[0m df \u001b[39m=\u001b[39m pd\u001b[39m.\u001b[39mDataFrame(json_result)\n\u001b[1;32m      7\u001b[0m df[\u001b[39m\"\u001b[39m\u001b[39manswer\u001b[39m\u001b[39m\"\u001b[39m] \u001b[39m=\u001b[39m df[\u001b[39m\"\u001b[39m\u001b[39manswer\u001b[39m\u001b[39m\"\u001b[39m]\u001b[39m.\u001b[39mmap(\u001b[39mlambda\u001b[39;00m x : \u001b[39mint\u001b[39m(x))\n",
      "File \u001b[0;32m~/conda/envs/py310/lib/python3.10/json/__init__.py:339\u001b[0m, in \u001b[0;36mloads\u001b[0;34m(s, cls, object_hook, parse_float, parse_int, parse_constant, object_pairs_hook, **kw)\u001b[0m\n\u001b[1;32m    337\u001b[0m \u001b[39melse\u001b[39;00m:\n\u001b[1;32m    338\u001b[0m     \u001b[39mif\u001b[39;00m \u001b[39mnot\u001b[39;00m \u001b[39misinstance\u001b[39m(s, (\u001b[39mbytes\u001b[39m, \u001b[39mbytearray\u001b[39m)):\n\u001b[0;32m--> 339\u001b[0m         \u001b[39mraise\u001b[39;00m \u001b[39mTypeError\u001b[39;00m(\u001b[39mf\u001b[39m\u001b[39m'\u001b[39m\u001b[39mthe JSON object must be str, bytes or bytearray, \u001b[39m\u001b[39m'\u001b[39m\n\u001b[1;32m    340\u001b[0m                         \u001b[39mf\u001b[39m\u001b[39m'\u001b[39m\u001b[39mnot \u001b[39m\u001b[39m{\u001b[39;00ms\u001b[39m.\u001b[39m\u001b[39m__class__\u001b[39m\u001b[39m.\u001b[39m\u001b[39m__name__\u001b[39m\u001b[39m}\u001b[39;00m\u001b[39m'\u001b[39m)\n\u001b[1;32m    341\u001b[0m     s \u001b[39m=\u001b[39m s\u001b[39m.\u001b[39mdecode(detect_encoding(s), \u001b[39m'\u001b[39m\u001b[39msurrogatepass\u001b[39m\u001b[39m'\u001b[39m)\n\u001b[1;32m    343\u001b[0m \u001b[39mif\u001b[39;00m (\u001b[39mcls\u001b[39m \u001b[39mis\u001b[39;00m \u001b[39mNone\u001b[39;00m \u001b[39mand\u001b[39;00m object_hook \u001b[39mis\u001b[39;00m \u001b[39mNone\u001b[39;00m \u001b[39mand\u001b[39;00m\n\u001b[1;32m    344\u001b[0m         parse_int \u001b[39mis\u001b[39;00m \u001b[39mNone\u001b[39;00m \u001b[39mand\u001b[39;00m parse_float \u001b[39mis\u001b[39;00m \u001b[39mNone\u001b[39;00m \u001b[39mand\u001b[39;00m\n\u001b[1;32m    345\u001b[0m         parse_constant \u001b[39mis\u001b[39;00m \u001b[39mNone\u001b[39;00m \u001b[39mand\u001b[39;00m object_pairs_hook \u001b[39mis\u001b[39;00m \u001b[39mNone\u001b[39;00m \u001b[39mand\u001b[39;00m \u001b[39mnot\u001b[39;00m kw):\n",
      "\u001b[0;31mTypeError\u001b[0m: the JSON object must be str, bytes or bytearray, not TypeError"
     ]
    }
   ],
   "source": [
    "json_result = []\n",
    "for result in results:\n",
    "    json_result.append(json.loads(result))\n",
    "\n",
    "df = pd.DataFrame(json_result)\n",
    "\n",
    "df[\"answer\"] = df[\"answer\"].map(lambda x : int(x))\n",
    "\n",
    "after_accuracy = df[\"answer\"].sum() / len(df[\"answer\"])\n",
    "print(f\"Accuracy: {after_accuracy*100:.2f}%\")"
   ]
  }
 ],
 "metadata": {
  "language_info": {
   "name": "python"
  }
 },
 "nbformat": 4,
 "nbformat_minor": 2
}
